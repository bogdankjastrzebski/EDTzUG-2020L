{
 "cells": [
  {
   "cell_type": "code",
   "execution_count": 1,
   "metadata": {},
   "outputs": [],
   "source": [
    "import numpy as np\n",
    "import pandas as pd\n",
    "import sklearn as sk\n",
    "import convertDictionaries as cd\n",
    "\n",
    "#import classifiers\n",
    "from sklearn.neural_network import MLPClassifier\n",
    "from sklearn.neighbors import KNeighborsClassifier\n",
    "from sklearn.tree import DecisionTreeClassifier\n",
    "from sklearn.ensemble import RandomForestClassifier, AdaBoostClassifier, GradientBoostingClassifier\n",
    "from sklearn.gaussian_process import GaussianProcessClassifier\n",
    "from sklearn.gaussian_process.kernels import RBF\n",
    "\n",
    "#import metrics\n",
    "from sklearn.model_selection import cross_val_score\n",
    "from sklearn.metrics import accuracy_score, balanced_accuracy_score, roc_auc_score, f1_score"
   ]
  },
  {
   "cell_type": "markdown",
   "metadata": {},
   "source": [
    "# Check different classificators"
   ]
  },
  {
   "cell_type": "markdown",
   "metadata": {},
   "source": [
    "Load data"
   ]
  },
  {
   "cell_type": "code",
   "execution_count": 2,
   "metadata": {},
   "outputs": [
    {
     "data": {
      "text/html": [
       "<div>\n",
       "<style scoped>\n",
       "    .dataframe tbody tr th:only-of-type {\n",
       "        vertical-align: middle;\n",
       "    }\n",
       "\n",
       "    .dataframe tbody tr th {\n",
       "        vertical-align: top;\n",
       "    }\n",
       "\n",
       "    .dataframe thead th {\n",
       "        text-align: right;\n",
       "    }\n",
       "</style>\n",
       "<table border=\"1\" class=\"dataframe\">\n",
       "  <thead>\n",
       "    <tr style=\"text-align: right;\">\n",
       "      <th></th>\n",
       "      <th>id - pair</th>\n",
       "      <th>Deepl</th>\n",
       "      <th>czy była korekta translatora</th>\n",
       "      <th>T ENG</th>\n",
       "      <th>T PL</th>\n",
       "      <th>GOLD &lt;T,H&gt;</th>\n",
       "      <th>T - type of sentence</th>\n",
       "      <th>text - number</th>\n",
       "      <th>verb - main semantic class</th>\n",
       "      <th>verb - second semantic class</th>\n",
       "      <th>...</th>\n",
       "      <th>presupposition</th>\n",
       "      <th>ewaluacja wynikania ES</th>\n",
       "      <th>ewaluacja wynikania ŁW</th>\n",
       "      <th>ES &lt;T1, H&gt;</th>\n",
       "      <th>ŁW &lt;T1, H&gt;</th>\n",
       "      <th>anotator_ES</th>\n",
       "      <th>annotator_ŁW</th>\n",
       "      <th>annotator_JB</th>\n",
       "      <th>annotator_SF</th>\n",
       "      <th>Unnamed: 32</th>\n",
       "    </tr>\n",
       "  </thead>\n",
       "  <tbody>\n",
       "    <tr>\n",
       "      <th>0</th>\n",
       "      <td>1203</td>\n",
       "      <td>I said, \"I have a test, I'm gonna fail biology...</td>\n",
       "      <td>1</td>\n",
       "      <td>To which I said that I was to write a class te...</td>\n",
       "      <td>Ja na to, że mam klasówkę, że zawalę biologię ...</td>\n",
       "      <td>N</td>\n",
       "      <td>eliptyczne</td>\n",
       "      <td>2531</td>\n",
       "      <td>mówienia</td>\n",
       "      <td>NaN</td>\n",
       "      <td>...</td>\n",
       "      <td>nie dotyczy</td>\n",
       "      <td>NaN</td>\n",
       "      <td>NaN</td>\n",
       "      <td>NaN</td>\n",
       "      <td>NaN</td>\n",
       "      <td>N</td>\n",
       "      <td>E</td>\n",
       "      <td>?</td>\n",
       "      <td>N</td>\n",
       "      <td>NaN</td>\n",
       "    </tr>\n",
       "    <tr>\n",
       "      <th>1</th>\n",
       "      <td>1671</td>\n",
       "      <td>Gliński did not have to turn his head to guess...</td>\n",
       "      <td>1</td>\n",
       "      <td>Gliński did not have to turn his head to guess...</td>\n",
       "      <td>Ani że na progu stanął właśnie Romanyczko.</td>\n",
       "      <td>?</td>\n",
       "      <td>eliptyczne</td>\n",
       "      <td>2978</td>\n",
       "      <td>epistemiczny</td>\n",
       "      <td>NaN</td>\n",
       "      <td>...</td>\n",
       "      <td>no</td>\n",
       "      <td>E</td>\n",
       "      <td>E</td>\n",
       "      <td>E</td>\n",
       "      <td>E</td>\n",
       "      <td>NaN</td>\n",
       "      <td>NaN</td>\n",
       "      <td>NaN</td>\n",
       "      <td>NaN</td>\n",
       "      <td>NaN</td>\n",
       "    </tr>\n",
       "    <tr>\n",
       "      <th>2</th>\n",
       "      <td>2441</td>\n",
       "      <td>Then he'll bring the Chinese back.</td>\n",
       "      <td>1</td>\n",
       "      <td>Earlier Ukrainians were said to come and work,...</td>\n",
       "      <td>Potem, że się przywiezie Chińczyków.</td>\n",
       "      <td>N</td>\n",
       "      <td>eliptyczne</td>\n",
       "      <td>3489</td>\n",
       "      <td>mówienia</td>\n",
       "      <td>NaN</td>\n",
       "      <td>...</td>\n",
       "      <td>nie dotyczy</td>\n",
       "      <td>NaN</td>\n",
       "      <td>NaN</td>\n",
       "      <td>NaN</td>\n",
       "      <td>NaN</td>\n",
       "      <td>NaN</td>\n",
       "      <td>NaN</td>\n",
       "      <td>NaN</td>\n",
       "      <td>NaN</td>\n",
       "      <td>NaN</td>\n",
       "    </tr>\n",
       "    <tr>\n",
       "      <th>3</th>\n",
       "      <td>945</td>\n",
       "      <td>He got weaker and weaker and felt that it was ...</td>\n",
       "      <td>0</td>\n",
       "      <td>He got weaker and weaker and felt that it was ...</td>\n",
       "      <td>Słabł coraz bardziej, czuł, że to kwestia zale...</td>\n",
       "      <td>N</td>\n",
       "      <td>1</td>\n",
       "      <td>2119</td>\n",
       "      <td>epistemiczny</td>\n",
       "      <td>percepcyjny</td>\n",
       "      <td>...</td>\n",
       "      <td>nie dotyczy</td>\n",
       "      <td>NaN</td>\n",
       "      <td>NaN</td>\n",
       "      <td>NaN</td>\n",
       "      <td>NaN</td>\n",
       "      <td>NaN</td>\n",
       "      <td>NaN</td>\n",
       "      <td>NaN</td>\n",
       "      <td>NaN</td>\n",
       "      <td>NaN</td>\n",
       "    </tr>\n",
       "    <tr>\n",
       "      <th>4</th>\n",
       "      <td>947</td>\n",
       "      <td>However, people who are very seriously ill, wh...</td>\n",
       "      <td>0</td>\n",
       "      <td>However, people who are very seriously ill, wh...</td>\n",
       "      <td>Jednak ludzie bardzo ciężko chorzy, gdy już cz...</td>\n",
       "      <td>N</td>\n",
       "      <td>1</td>\n",
       "      <td>2123</td>\n",
       "      <td>epistemiczny</td>\n",
       "      <td>percepcyjny</td>\n",
       "      <td>...</td>\n",
       "      <td>nie dotyczy</td>\n",
       "      <td>NaN</td>\n",
       "      <td>NaN</td>\n",
       "      <td>NaN</td>\n",
       "      <td>NaN</td>\n",
       "      <td>N</td>\n",
       "      <td>N</td>\n",
       "      <td>E</td>\n",
       "      <td>E</td>\n",
       "      <td>NaN</td>\n",
       "    </tr>\n",
       "  </tbody>\n",
       "</table>\n",
       "<p>5 rows × 33 columns</p>\n",
       "</div>"
      ],
      "text/plain": [
       "   id - pair                                              Deepl  \\\n",
       "0       1203  I said, \"I have a test, I'm gonna fail biology...   \n",
       "1       1671  Gliński did not have to turn his head to guess...   \n",
       "2       2441                 Then he'll bring the Chinese back.   \n",
       "3        945  He got weaker and weaker and felt that it was ...   \n",
       "4        947  However, people who are very seriously ill, wh...   \n",
       "\n",
       "   czy była korekta translatora  \\\n",
       "0                             1   \n",
       "1                             1   \n",
       "2                             1   \n",
       "3                             0   \n",
       "4                             0   \n",
       "\n",
       "                                               T ENG  \\\n",
       "0  To which I said that I was to write a class te...   \n",
       "1  Gliński did not have to turn his head to guess...   \n",
       "2  Earlier Ukrainians were said to come and work,...   \n",
       "3  He got weaker and weaker and felt that it was ...   \n",
       "4  However, people who are very seriously ill, wh...   \n",
       "\n",
       "                                                T PL GOLD <T,H>  \\\n",
       "0  Ja na to, że mam klasówkę, że zawalę biologię ...          N   \n",
       "1         Ani że na progu stanął właśnie Romanyczko.          ?   \n",
       "2               Potem, że się przywiezie Chińczyków.          N   \n",
       "3  Słabł coraz bardziej, czuł, że to kwestia zale...          N   \n",
       "4  Jednak ludzie bardzo ciężko chorzy, gdy już cz...          N   \n",
       "\n",
       "  T - type of sentence  text - number verb - main semantic class  \\\n",
       "0           eliptyczne           2531                   mówienia   \n",
       "1           eliptyczne           2978               epistemiczny   \n",
       "2           eliptyczne           3489                   mówienia   \n",
       "3                    1           2119               epistemiczny   \n",
       "4                    1           2123               epistemiczny   \n",
       "\n",
       "  verb - second semantic class  ... presupposition  ewaluacja wynikania ES  \\\n",
       "0                          NaN  ...    nie dotyczy                     NaN   \n",
       "1                          NaN  ...             no                       E   \n",
       "2                          NaN  ...    nie dotyczy                     NaN   \n",
       "3                  percepcyjny  ...    nie dotyczy                     NaN   \n",
       "4                  percepcyjny  ...    nie dotyczy                     NaN   \n",
       "\n",
       "  ewaluacja wynikania ŁW ES <T1, H> ŁW <T1, H> anotator_ES annotator_ŁW  \\\n",
       "0                    NaN        NaN        NaN           N            E   \n",
       "1                      E          E          E         NaN          NaN   \n",
       "2                    NaN        NaN        NaN         NaN          NaN   \n",
       "3                    NaN        NaN        NaN         NaN          NaN   \n",
       "4                    NaN        NaN        NaN           N            N   \n",
       "\n",
       "  annotator_JB annotator_SF Unnamed: 32  \n",
       "0            ?            N         NaN  \n",
       "1          NaN          NaN         NaN  \n",
       "2          NaN          NaN         NaN  \n",
       "3          NaN          NaN         NaN  \n",
       "4            E            E         NaN  \n",
       "\n",
       "[5 rows x 33 columns]"
      ]
     },
     "execution_count": 2,
     "metadata": {},
     "output_type": "execute_result"
    }
   ],
   "source": [
    "data = pd.read_excel(\"LingFeatured NLI_PL_20.03.2020.xlsx\")\n",
    "data.head()"
   ]
  },
  {
   "cell_type": "code",
   "execution_count": 3,
   "metadata": {},
   "outputs": [
    {
     "data": {
      "text/plain": [
       "Index(['id - pair', 'Deepl', 'czy była korekta translatora', 'T ENG', 'T PL',\n",
       "       'GOLD <T,H>', 'T - type of sentence', 'text - number',\n",
       "       'verb - main semantic class', 'verb - second semantic class',\n",
       "       'verb - third semantic class', 'verb id', 'GOLD <T1,H>', 'WN', 'verb',\n",
       "       'verb - veridical (positive enviroment)',\n",
       "       'verb - veridical (negative enviroment)', 'T1', 'H', 'verb - tense',\n",
       "       'realizacja predykatów', 'T - negation', 'complement - tense',\n",
       "       'presupposition', 'ewaluacja wynikania ES', 'ewaluacja wynikania ŁW',\n",
       "       'ES <T1, H>', 'ŁW <T1, H>', 'anotator_ES', 'annotator_ŁW',\n",
       "       'annotator_JB', 'annotator_SF', 'Unnamed: 32'],\n",
       "      dtype='object')"
      ]
     },
     "execution_count": 3,
     "metadata": {},
     "output_type": "execute_result"
    }
   ],
   "source": [
    "data.columns"
   ]
  },
  {
   "cell_type": "code",
   "execution_count": 4,
   "metadata": {},
   "outputs": [],
   "source": [
    "dataUnique = data[['verb - main semantic class', 'verb - second semantic class',\n",
    "       'verb - third semantic class', 'verb - tense','verb','verb - veridical (positive enviroment)',\n",
    "                             'verb - veridical (negative enviroment)']].drop_duplicates()\n",
    "\n",
    "verbAtt = dataUnique[['verb - main semantic class', 'verb - second semantic class',\n",
    "       'verb - third semantic class', 'verb - tense']]\n",
    "\n",
    "verbSig = dataUnique[['verb - veridical (positive enviroment)', 'verb - veridical (negative enviroment)']]"
   ]
  },
  {
   "cell_type": "markdown",
   "metadata": {},
   "source": [
    "Define estimators"
   ]
  },
  {
   "cell_type": "code",
   "execution_count": 5,
   "metadata": {},
   "outputs": [],
   "source": [
    "estimators = [\n",
    "    KNeighborsClassifier(3),\n",
    "    DecisionTreeClassifier(max_depth=5),\n",
    "    RandomForestClassifier(max_depth=5, n_estimators=10, max_features=1), \n",
    "    MLPClassifier(alpha=1, max_iter=1000),\n",
    "    AdaBoostClassifier(),\n",
    "    GaussianProcessClassifier(1.0 * RBF(1.0)),\n",
    "    GradientBoostingClassifier()\n",
    "]"
   ]
  },
  {
   "cell_type": "code",
   "execution_count": 6,
   "metadata": {},
   "outputs": [],
   "source": [
    "def checkEstimator(estimator, inData, outData, cvVal = 5):\n",
    "    \n",
    "    estimator.fit(inData, outData)\n",
    "    predictedData = estimator.predict(inData)\n",
    "    \n",
    "    AS = accuracy_score(outData, predictedData)\n",
    "    CV = cross_val_score(estimator, inData, outData, cv = cvVal) \n",
    "    BAS = balanced_accuracy_score(outData, predictedData)\n",
    "    F1 = f1_score(outData, predictedData, average='macro')\n",
    "       \n",
    "    \n",
    "    print(str(estimator.__class__.__name__))\n",
    "    print('accuracy score - ' + str(AS))\n",
    "    print('cross validation score - ' + str(CV))\n",
    "    print('balanced accuracy score - ' + str(BAS))\n",
    "    print('F1 score - ' + str(F1))\n",
    "    print('')"
   ]
  },
  {
   "cell_type": "markdown",
   "metadata": {},
   "source": [
    "Represent as simple enums"
   ]
  },
  {
   "cell_type": "code",
   "execution_count": 7,
   "metadata": {},
   "outputs": [],
   "source": [
    "verbAttEnum = verbAtt.copy()\n",
    "\n",
    "verbAttEnum['verb - main semantic class'] = verbAttEnum['verb - main semantic class'].apply(cd.convertData, args=[cd.semanticClass])\n",
    "verbAttEnum['verb - second semantic class'] = verbAttEnum['verb - second semantic class'].apply(cd.convertData, args=[cd.semanticClass])\n",
    "verbAttEnum['verb - third semantic class'] = verbAttEnum['verb - third semantic class'].apply(cd.convertData, args=[cd.semanticClass])\n",
    "verbAttEnum['verb - tense'] = verbAttEnum['verb - tense'].apply(cd.convertData, args=[cd.verbTense])\n",
    "\n",
    "verbSigEnum = verbSig.copy()\n",
    "\n",
    "verbSigEnum['verb - veridical (positive enviroment)'] = verbSigEnum['verb - veridical (positive enviroment)'].apply(cd.convertData,args=[cd.verbVeridical])\n",
    "verbSigEnum['verb - veridical (negative enviroment)'] = verbSigEnum['verb - veridical (negative enviroment)'].apply(cd.convertData,args=[cd.verbVeridical])"
   ]
  },
  {
   "cell_type": "code",
   "execution_count": 8,
   "metadata": {},
   "outputs": [
    {
     "name": "stderr",
     "output_type": "stream",
     "text": [
      "C:\\Users\\macie\\AppData\\Local\\Programs\\Python\\Python37\\lib\\site-packages\\sklearn\\model_selection\\_split.py:667: UserWarning: The least populated class in y has only 2 members, which is less than n_splits=5.\n",
      "  % (min_groups, self.n_splits)), UserWarning)\n",
      "C:\\Users\\macie\\AppData\\Local\\Programs\\Python\\Python37\\lib\\site-packages\\sklearn\\model_selection\\_split.py:667: UserWarning: The least populated class in y has only 2 members, which is less than n_splits=5.\n",
      "  % (min_groups, self.n_splits)), UserWarning)\n",
      "C:\\Users\\macie\\AppData\\Local\\Programs\\Python\\Python37\\lib\\site-packages\\sklearn\\model_selection\\_split.py:667: UserWarning: The least populated class in y has only 2 members, which is less than n_splits=5.\n",
      "  % (min_groups, self.n_splits)), UserWarning)\n"
     ]
    },
    {
     "name": "stdout",
     "output_type": "stream",
     "text": [
      "KNeighborsClassifier\n",
      "accuracy score - 0.7727272727272727\n",
      "cross validation score - [0.72580645 0.71544715 0.68292683 0.73170732 0.69105691]\n",
      "balanced accuracy score - 0.4932748953644476\n",
      "F1 score - 0.48975286132487844\n",
      "\n",
      "DecisionTreeClassifier\n",
      "accuracy score - 0.7613636363636364\n",
      "cross validation score - [0.71774194 0.77235772 0.72357724 0.76422764 0.67479675]\n",
      "balanced accuracy score - 0.34868988391376454\n",
      "F1 score - 0.3750329392802274\n",
      "\n",
      "RandomForestClassifier\n",
      "accuracy score - 0.7775974025974026\n",
      "cross validation score - [0.70967742 0.76422764 0.65853659 0.76422764 0.6097561 ]\n",
      "balanced accuracy score - 0.3368309247413725\n",
      "F1 score - 0.3558836405924001\n",
      "\n"
     ]
    },
    {
     "name": "stderr",
     "output_type": "stream",
     "text": [
      "C:\\Users\\macie\\AppData\\Local\\Programs\\Python\\Python37\\lib\\site-packages\\sklearn\\model_selection\\_split.py:667: UserWarning: The least populated class in y has only 2 members, which is less than n_splits=5.\n",
      "  % (min_groups, self.n_splits)), UserWarning)\n"
     ]
    },
    {
     "name": "stdout",
     "output_type": "stream",
     "text": [
      "MLPClassifier\n",
      "accuracy score - 0.6655844155844156\n",
      "cross validation score - [0.69354839 0.63414634 0.66666667 0.7398374  0.62601626]\n",
      "balanced accuracy score - 0.24535260206902\n",
      "F1 score - 0.23761145231078418\n",
      "\n"
     ]
    },
    {
     "name": "stderr",
     "output_type": "stream",
     "text": [
      "C:\\Users\\macie\\AppData\\Local\\Programs\\Python\\Python37\\lib\\site-packages\\sklearn\\model_selection\\_split.py:667: UserWarning: The least populated class in y has only 2 members, which is less than n_splits=5.\n",
      "  % (min_groups, self.n_splits)), UserWarning)\n"
     ]
    },
    {
     "name": "stdout",
     "output_type": "stream",
     "text": [
      "AdaBoostClassifier\n",
      "accuracy score - 0.6737012987012987\n",
      "cross validation score - [0.66935484 0.60162602 0.66666667 0.64227642 0.57723577]\n",
      "balanced accuracy score - 0.2893042722893469\n",
      "F1 score - 0.2948771008745596\n",
      "\n"
     ]
    },
    {
     "name": "stderr",
     "output_type": "stream",
     "text": [
      "C:\\Users\\macie\\AppData\\Local\\Programs\\Python\\Python37\\lib\\site-packages\\sklearn\\model_selection\\_split.py:667: UserWarning: The least populated class in y has only 2 members, which is less than n_splits=5.\n",
      "  % (min_groups, self.n_splits)), UserWarning)\n"
     ]
    },
    {
     "name": "stdout",
     "output_type": "stream",
     "text": [
      "GaussianProcessClassifier\n",
      "accuracy score - 0.7987012987012987\n",
      "cross validation score - [0.72580645 0.7804878  0.70731707 0.77235772 0.70731707]\n",
      "balanced accuracy score - 0.3180920792861091\n",
      "F1 score - 0.3180460956312349\n",
      "\n"
     ]
    },
    {
     "name": "stderr",
     "output_type": "stream",
     "text": [
      "C:\\Users\\macie\\AppData\\Local\\Programs\\Python\\Python37\\lib\\site-packages\\sklearn\\model_selection\\_split.py:667: UserWarning: The least populated class in y has only 2 members, which is less than n_splits=5.\n",
      "  % (min_groups, self.n_splits)), UserWarning)\n"
     ]
    },
    {
     "name": "stdout",
     "output_type": "stream",
     "text": [
      "GradientBoostingClassifier\n",
      "accuracy score - 0.8003246753246753\n",
      "cross validation score - [0.70967742 0.78861789 0.71544715 0.78861789 0.69918699]\n",
      "balanced accuracy score - 0.3939856274184632\n",
      "F1 score - 0.43962035274005923\n",
      "\n"
     ]
    }
   ],
   "source": [
    "for est in estimators:\n",
    "    checkEstimator(est, verbAttEnum, verbSigEnum['verb - veridical (positive enviroment)'])"
   ]
  },
  {
   "cell_type": "code",
   "execution_count": 9,
   "metadata": {},
   "outputs": [
    {
     "name": "stdout",
     "output_type": "stream",
     "text": [
      "KNeighborsClassifier\n",
      "accuracy score - 0.7207792207792207\n",
      "cross validation score - [0.49193548 0.67479675 0.68292683 0.69918699 0.69918699]\n",
      "balanced accuracy score - 0.5588086280991242\n",
      "F1 score - 0.471490952731559\n",
      "\n",
      "DecisionTreeClassifier\n",
      "accuracy score - 0.7386363636363636\n",
      "cross validation score - [0.60483871 0.73170732 0.7398374  0.69918699 0.65853659]\n",
      "balanced accuracy score - 0.4384024291154608\n",
      "F1 score - 0.40271133288086636\n",
      "\n",
      "RandomForestClassifier\n",
      "accuracy score - 0.7435064935064936\n",
      "cross validation score - [0.66935484 0.72357724 0.66666667 0.77235772 0.63414634]\n",
      "balanced accuracy score - 0.30662986227440403\n",
      "F1 score - 0.3214440260900608\n",
      "\n",
      "MLPClassifier\n",
      "accuracy score - 0.6558441558441559\n",
      "cross validation score - [0.62096774 0.65853659 0.67479675 0.72357724 0.62601626]\n",
      "balanced accuracy score - 0.21344260289890524\n",
      "F1 score - 0.18409638554216867\n",
      "\n",
      "AdaBoostClassifier\n",
      "accuracy score - 0.6396103896103896\n",
      "cross validation score - [0.63709677 0.63414634 0.64227642 0.64227642 0.64227642]\n",
      "balanced accuracy score - 0.2\n",
      "F1 score - 0.15619425173439047\n",
      "\n",
      "GaussianProcessClassifier\n",
      "accuracy score - 0.7646103896103896\n",
      "cross validation score - [0.66129032 0.73170732 0.70731707 0.74796748 0.71544715]\n",
      "balanced accuracy score - 0.3039263653599168\n",
      "F1 score - 0.3024829031856495\n",
      "\n",
      "GradientBoostingClassifier\n",
      "accuracy score - 0.775974025974026\n",
      "cross validation score - [0.66129032 0.72357724 0.76422764 0.75609756 0.70731707]\n",
      "balanced accuracy score - 0.506455592972715\n",
      "F1 score - 0.4753939275614332\n",
      "\n"
     ]
    }
   ],
   "source": [
    "for est in estimators:\n",
    "    checkEstimator(est, verbAttEnum, verbSigEnum['verb - veridical (negative enviroment)'])"
   ]
  },
  {
   "cell_type": "code",
   "execution_count": null,
   "metadata": {},
   "outputs": [],
   "source": []
  }
 ],
 "metadata": {
  "kernelspec": {
   "display_name": "Python 3",
   "language": "python",
   "name": "python3"
  },
  "language_info": {
   "codemirror_mode": {
    "name": "ipython",
    "version": 3
   },
   "file_extension": ".py",
   "mimetype": "text/x-python",
   "name": "python",
   "nbconvert_exporter": "python",
   "pygments_lexer": "ipython3",
   "version": "3.7.4"
  }
 },
 "nbformat": 4,
 "nbformat_minor": 4
}
