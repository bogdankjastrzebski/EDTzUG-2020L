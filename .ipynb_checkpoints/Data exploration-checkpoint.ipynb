{
 "cells": [
  {
   "cell_type": "markdown",
   "metadata": {},
   "source": [
    "# Eksploracja danych"
   ]
  },
  {
   "cell_type": "code",
   "execution_count": 1,
   "metadata": {},
   "outputs": [],
   "source": [
    "import numpy as np\n",
    "import pandas as pd\n",
    "import seaborn as sb\n",
    "import sklearn as sk\n",
    "from sklearn.ensemble import RandomForestClassifier"
   ]
  },
  {
   "cell_type": "markdown",
   "metadata": {},
   "source": [
    "# Wczytanie i przedstawienie zbioru"
   ]
  },
  {
   "cell_type": "code",
   "execution_count": 2,
   "metadata": {},
   "outputs": [],
   "source": [
    "data = pd.read_excel(\"LingFeatured NLI_PL_20.03.2020.xlsx\")"
   ]
  },
  {
   "cell_type": "code",
   "execution_count": 3,
   "metadata": {},
   "outputs": [
    {
     "data": {
      "text/plain": [
       "<bound method NDFrame.describe of       id - pair                                              Deepl  \\\n",
       "0          1203  I said, \"I have a test, I'm gonna fail biology...   \n",
       "1          1671  Gliński did not have to turn his head to guess...   \n",
       "2          2441                 Then he'll bring the Chinese back.   \n",
       "3           945  He got weaker and weaker and felt that it was ...   \n",
       "4           947  However, people who are very seriously ill, wh...   \n",
       "...         ...                                                ...   \n",
       "2591       1045  It was established that both girls could stay ...   \n",
       "2592       2258  It was established that he had close social re...   \n",
       "2593        863  Here you can see that the State of Israel has ...   \n",
       "2594        443  Of course you can love if you see that this lo...   \n",
       "2595        444  Of course you can love if you see that this lo...   \n",
       "\n",
       "      czy była korekta translatora  \\\n",
       "0                                1   \n",
       "1                                1   \n",
       "2                                1   \n",
       "3                                0   \n",
       "4                                0   \n",
       "...                            ...   \n",
       "2591                             1   \n",
       "2592                             1   \n",
       "2593                             1   \n",
       "2594                             1   \n",
       "2595                             1   \n",
       "\n",
       "                                                  T ENG  \\\n",
       "0     To which I said that I was to write a class te...   \n",
       "1     Gliński did not have to turn his head to guess...   \n",
       "2     Earlier Ukrainians were said to come and work,...   \n",
       "3     He got weaker and weaker and felt that it was ...   \n",
       "4     However, people who are very seriously ill, wh...   \n",
       "...                                                 ...   \n",
       "2591  It has been established that both girls accomp...   \n",
       "2592  It was established that he had close social re...   \n",
       "2593  They could see here that the State of Israel h...   \n",
       "2594  Of course you can love someone if you see that...   \n",
       "2595  Of course you can love someone if you see that...   \n",
       "\n",
       "                                                   T PL GOLD <T,H>  \\\n",
       "0     Ja na to, że mam klasówkę, że zawalę biologię ...          N   \n",
       "1            Ani że na progu stanął właśnie Romanyczko.          ?   \n",
       "2                  Potem, że się przywiezie Chińczyków.          N   \n",
       "3     Słabł coraz bardziej, czuł, że to kwestia zale...          N   \n",
       "4     Jednak ludzie bardzo ciężko chorzy, gdy już cz...          N   \n",
       "...                                                 ...        ...   \n",
       "2591  Udało się ustalić, że obie dziewczynki mogą pr...          N   \n",
       "2592  Ustalono, że łączą go z niektórymi członkami g...          N   \n",
       "2593  Tu będą mogli zobaczyć, że Państwo Izrael ma k...          E   \n",
       "2594  Oczywiście, że można kochać, jeśli zobaczy się...          N   \n",
       "2595  Oczywiście, że można kochać, jeśli zobaczy się...          N   \n",
       "\n",
       "     T - type of sentence  text - number verb - main semantic class  \\\n",
       "0              eliptyczne           2531                   mówienia   \n",
       "1              eliptyczne           2978               epistemiczny   \n",
       "2              eliptyczne           3489                   mówienia   \n",
       "3                       1           2119               epistemiczny   \n",
       "4                       1           2123               epistemiczny   \n",
       "...                   ...            ...                        ...   \n",
       "2591                    1           2407               wnioskowania   \n",
       "2592                    1           3369               wnioskowania   \n",
       "2593              modalne           1795               epistemiczny   \n",
       "2594            warunkowe            436               epistemiczny   \n",
       "2595            warunkowe            436               epistemiczny   \n",
       "\n",
       "     verb - second semantic class  ... presupposition  ewaluacja wynikania ES  \\\n",
       "0                             NaN  ...    nie dotyczy                     NaN   \n",
       "1                             NaN  ...             no                       E   \n",
       "2                             NaN  ...    nie dotyczy                     NaN   \n",
       "3                     percepcyjny  ...    nie dotyczy                     NaN   \n",
       "4                     percepcyjny  ...    nie dotyczy                     NaN   \n",
       "...                           ...  ...            ...                     ...   \n",
       "2591                 epistemiczny  ...    nie dotyczy                     NaN   \n",
       "2592                 epistemiczny  ...    nie dotyczy                     NaN   \n",
       "2593                          NaN  ...            yes                       E   \n",
       "2594                          NaN  ...    nie dotyczy                     NaN   \n",
       "2595                          NaN  ...    nie dotyczy                     NaN   \n",
       "\n",
       "     ewaluacja wynikania ŁW ES <T1, H> ŁW <T1, H> anotator_ES annotator_ŁW  \\\n",
       "0                       NaN        NaN        NaN           N            E   \n",
       "1                         E          E          E         NaN          NaN   \n",
       "2                       NaN        NaN        NaN         NaN          NaN   \n",
       "3                       NaN        NaN        NaN         NaN          NaN   \n",
       "4                       NaN        NaN        NaN           N            N   \n",
       "...                     ...        ...        ...         ...          ...   \n",
       "2591                    NaN        NaN        NaN         NaN          NaN   \n",
       "2592                    NaN        NaN        NaN         NaN          NaN   \n",
       "2593                      E          E          E         NaN          NaN   \n",
       "2594                    NaN        NaN        NaN           N            E   \n",
       "2595                    NaN        NaN        NaN           N            E   \n",
       "\n",
       "     annotator_JB annotator_SF Unnamed: 32  \n",
       "0               ?            N         NaN  \n",
       "1             NaN          NaN         NaN  \n",
       "2             NaN          NaN         NaN  \n",
       "3             NaN          NaN         NaN  \n",
       "4               E            E         NaN  \n",
       "...           ...          ...         ...  \n",
       "2591          NaN          NaN         NaN  \n",
       "2592          NaN          NaN         NaN  \n",
       "2593          NaN          NaN         NaN  \n",
       "2594            E            E         NaN  \n",
       "2595            E            E         NaN  \n",
       "\n",
       "[2596 rows x 33 columns]>"
      ]
     },
     "execution_count": 3,
     "metadata": {},
     "output_type": "execute_result"
    }
   ],
   "source": [
    "data.describe"
   ]
  },
  {
   "cell_type": "code",
   "execution_count": 4,
   "metadata": {},
   "outputs": [
    {
     "name": "stdout",
     "output_type": "stream",
     "text": [
      "<class 'pandas.core.frame.DataFrame'>\n",
      "RangeIndex: 2596 entries, 0 to 2595\n",
      "Data columns (total 33 columns):\n",
      " #   Column                                  Non-Null Count  Dtype  \n",
      "---  ------                                  --------------  -----  \n",
      " 0   id - pair                               2596 non-null   int64  \n",
      " 1   Deepl                                   2596 non-null   object \n",
      " 2   czy była korekta translatora            2596 non-null   int64  \n",
      " 3   T ENG                                   2596 non-null   object \n",
      " 4   T PL                                    2596 non-null   object \n",
      " 5   GOLD <T,H>                              2596 non-null   object \n",
      " 6   T - type of sentence                    2594 non-null   object \n",
      " 7   text - number                           2596 non-null   int64  \n",
      " 8   verb - main semantic class              2596 non-null   object \n",
      " 9   verb - second semantic class            603 non-null    object \n",
      " 10  verb - third semantic class             107 non-null    object \n",
      " 11  verb id                                 2596 non-null   int64  \n",
      " 12  GOLD <T1,H>                             2596 non-null   object \n",
      " 13  WN                                      2595 non-null   object \n",
      " 14  verb                                    2596 non-null   object \n",
      " 15  verb - veridical (positive enviroment)  2596 non-null   object \n",
      " 16  verb - veridical (negative enviroment)  2596 non-null   object \n",
      " 17  T1                                      994 non-null    object \n",
      " 18  H                                       2595 non-null   object \n",
      " 19  verb - tense                            2596 non-null   object \n",
      " 20  realizacja predykatów                   2596 non-null   object \n",
      " 21  T - negation                            2596 non-null   int64  \n",
      " 22  complement - tense                      2596 non-null   object \n",
      " 23  presupposition                          2596 non-null   object \n",
      " 24  ewaluacja wynikania ES                  682 non-null    object \n",
      " 25  ewaluacja wynikania ŁW                  682 non-null    object \n",
      " 26  ES <T1, H>                              682 non-null    object \n",
      " 27  ŁW <T1, H>                              682 non-null    object \n",
      " 28  anotator_ES                             524 non-null    object \n",
      " 29  annotator_ŁW                            524 non-null    object \n",
      " 30  annotator_JB                            524 non-null    object \n",
      " 31  annotator_SF                            524 non-null    object \n",
      " 32  Unnamed: 32                             20 non-null     float64\n",
      "dtypes: float64(1), int64(5), object(27)\n",
      "memory usage: 669.4+ KB\n"
     ]
    }
   ],
   "source": [
    "data.info()"
   ]
  },
  {
   "cell_type": "code",
   "execution_count": 5,
   "metadata": {},
   "outputs": [
    {
     "data": {
      "text/plain": [
       "Index(['id - pair', 'Deepl', 'czy była korekta translatora', 'T ENG', 'T PL',\n",
       "       'GOLD <T,H>', 'T - type of sentence', 'text - number',\n",
       "       'verb - main semantic class', 'verb - second semantic class',\n",
       "       'verb - third semantic class', 'verb id', 'GOLD <T1,H>', 'WN', 'verb',\n",
       "       'verb - veridical (positive enviroment)',\n",
       "       'verb - veridical (negative enviroment)', 'T1', 'H', 'verb - tense',\n",
       "       'realizacja predykatów', 'T - negation', 'complement - tense',\n",
       "       'presupposition', 'ewaluacja wynikania ES', 'ewaluacja wynikania ŁW',\n",
       "       'ES <T1, H>', 'ŁW <T1, H>', 'anotator_ES', 'annotator_ŁW',\n",
       "       'annotator_JB', 'annotator_SF', 'Unnamed: 32'],\n",
       "      dtype='object')"
      ]
     },
     "execution_count": 5,
     "metadata": {},
     "output_type": "execute_result"
    }
   ],
   "source": [
    "data.columns"
   ]
  },
  {
   "cell_type": "markdown",
   "metadata": {},
   "source": [
    "## Liczba braków"
   ]
  },
  {
   "cell_type": "code",
   "execution_count": 6,
   "metadata": {},
   "outputs": [
    {
     "data": {
      "text/plain": [
       "id - pair                                    0\n",
       "Deepl                                        0\n",
       "czy była korekta translatora                 0\n",
       "T ENG                                        0\n",
       "T PL                                         0\n",
       "GOLD <T,H>                                   0\n",
       "T - type of sentence                         2\n",
       "text - number                                0\n",
       "verb - main semantic class                   0\n",
       "verb - second semantic class              1993\n",
       "verb - third semantic class               2489\n",
       "verb id                                      0\n",
       "GOLD <T1,H>                                  0\n",
       "WN                                           1\n",
       "verb                                         0\n",
       "verb - veridical (positive enviroment)       0\n",
       "verb - veridical (negative enviroment)       0\n",
       "T1                                        1602\n",
       "H                                            1\n",
       "verb - tense                                 0\n",
       "realizacja predykatów                        0\n",
       "T - negation                                 0\n",
       "complement - tense                           0\n",
       "presupposition                               0\n",
       "ewaluacja wynikania ES                    1914\n",
       "ewaluacja wynikania ŁW                    1914\n",
       "ES <T1, H>                                1914\n",
       "ŁW <T1, H>                                1914\n",
       "anotator_ES                               2072\n",
       "annotator_ŁW                              2072\n",
       "annotator_JB                              2072\n",
       "annotator_SF                              2072\n",
       "Unnamed: 32                               2576\n",
       "dtype: int64"
      ]
     },
     "execution_count": 6,
     "metadata": {},
     "output_type": "execute_result"
    }
   ],
   "source": [
    "data.isnull().sum()"
   ]
  },
  {
   "cell_type": "markdown",
   "metadata": {},
   "source": [
    "## Średnia ze średniej liczby braków dla słów "
   ]
  },
  {
   "cell_type": "code",
   "execution_count": 7,
   "metadata": {},
   "outputs": [
    {
     "data": {
      "text/plain": [
       "id - pair                                 0.000000\n",
       "Deepl                                     0.000000\n",
       "czy była korekta translatora              0.000000\n",
       "T ENG                                     0.000000\n",
       "T PL                                      0.000000\n",
       "GOLD <T,H>                                0.000000\n",
       "T - type of sentence                      0.000419\n",
       "text - number                             0.000000\n",
       "verb - main semantic class                0.000000\n",
       "verb - second semantic class              0.652597\n",
       "verb - third semantic class               0.946412\n",
       "verb id                                   0.000000\n",
       "GOLD <T1,H>                               0.000000\n",
       "WN                                        0.000195\n",
       "verb                                      0.000000\n",
       "verb - veridical (positive enviroment)    0.000000\n",
       "verb - veridical (negative enviroment)    0.000000\n",
       "T1                                        0.589793\n",
       "H                                         0.000021\n",
       "verb - tense                              0.000000\n",
       "realizacja predykatów                     0.000000\n",
       "T - negation                              0.000000\n",
       "complement - tense                        0.000000\n",
       "presupposition                            0.000000\n",
       "ewaluacja wynikania ES                    0.683429\n",
       "ewaluacja wynikania ŁW                    0.683429\n",
       "ES <T1, H>                                0.683429\n",
       "ŁW <T1, H>                                0.683429\n",
       "anotator_ES                               0.800446\n",
       "annotator_ŁW                              0.800446\n",
       "annotator_JB                              0.800446\n",
       "annotator_SF                              0.800446\n",
       "Unnamed: 32                               0.988577\n",
       "dtype: float64"
      ]
     },
     "execution_count": 7,
     "metadata": {},
     "output_type": "execute_result"
    }
   ],
   "source": [
    "data.groupby(['verb']).apply(lambda df: df.isnull().mean()).mean()"
   ]
  },
  {
   "cell_type": "markdown",
   "metadata": {},
   "source": [
    "## Liczba unikalnych rekordów"
   ]
  },
  {
   "cell_type": "code",
   "execution_count": 8,
   "metadata": {},
   "outputs": [
    {
     "data": {
      "text/plain": [
       "id - pair                                 2596\n",
       "Deepl                                     2452\n",
       "czy była korekta translatora                 2\n",
       "T ENG                                     2452\n",
       "T PL                                      2470\n",
       "GOLD <T,H>                                   4\n",
       "T - type of sentence                        32\n",
       "text - number                             1183\n",
       "verb - main semantic class                  13\n",
       "verb - second semantic class                13\n",
       "verb - third semantic class                  4\n",
       "verb id                                    368\n",
       "GOLD <T1,H>                                  5\n",
       "WN                                         267\n",
       "verb                                       367\n",
       "verb - veridical (positive enviroment)       6\n",
       "verb - veridical (negative enviroment)       6\n",
       "T1                                         826\n",
       "H                                         2591\n",
       "verb - tense                                 4\n",
       "realizacja predykatów                     1317\n",
       "T - negation                                 2\n",
       "complement - tense                           4\n",
       "presupposition                               3\n",
       "ewaluacja wynikania ES                       4\n",
       "ewaluacja wynikania ŁW                       4\n",
       "ES <T1, H>                                   4\n",
       "ŁW <T1, H>                                   4\n",
       "anotator_ES                                  4\n",
       "annotator_ŁW                                 4\n",
       "annotator_JB                                 4\n",
       "annotator_SF                                 4\n",
       "Unnamed: 32                                  1\n",
       "dtype: int64"
      ]
     },
     "execution_count": 8,
     "metadata": {},
     "output_type": "execute_result"
    }
   ],
   "source": [
    "data.nunique()"
   ]
  },
  {
   "cell_type": "markdown",
   "metadata": {},
   "source": [
    "# Liczba poszczególnych klas semantycznych"
   ]
  },
  {
   "cell_type": "markdown",
   "metadata": {},
   "source": [
    "Główna klasa semantyczna"
   ]
  },
  {
   "cell_type": "code",
   "execution_count": 9,
   "metadata": {},
   "outputs": [
    {
     "data": {
      "text/plain": [
       "epistemiczny    1079\n",
       "mówienia         973\n",
       "odkrycia          96\n",
       "emotywny          79\n",
       "przyczynowy       75\n",
       "percepcyjny       58\n",
       "pamięciowy        54\n",
       "wnioskowania      53\n",
       "?                 43\n",
       "dowodzenia        37\n",
       "zdarzeniowy       37\n",
       "liczenia          11\n",
       "czynnościowy       1\n",
       "Name: verb - main semantic class, dtype: int64"
      ]
     },
     "execution_count": 9,
     "metadata": {},
     "output_type": "execute_result"
    }
   ],
   "source": [
    "data[\"verb - main semantic class\"].value_counts()"
   ]
  },
  {
   "cell_type": "markdown",
   "metadata": {},
   "source": [
    "Druga klasa semantyczna"
   ]
  },
  {
   "cell_type": "code",
   "execution_count": 10,
   "metadata": {},
   "outputs": [
    {
     "data": {
      "text/plain": [
       "epistemiczny    282\n",
       "wnioskowania     67\n",
       "wolicjonalny     67\n",
       "percepcyjny      47\n",
       "pamięciowy       43\n",
       "mówienia         31\n",
       "emotywny         31\n",
       "zdarzeniowy      25\n",
       "nie-wiedzowy      4\n",
       "przyczynowy       2\n",
       "wolitywny         2\n",
       "performatyw       1\n",
       "czynnościowy      1\n",
       "Name: verb - second semantic class, dtype: int64"
      ]
     },
     "execution_count": 10,
     "metadata": {},
     "output_type": "execute_result"
    }
   ],
   "source": [
    "data[\"verb - second semantic class\"].value_counts()"
   ]
  },
  {
   "cell_type": "markdown",
   "metadata": {},
   "source": [
    "Trzecia klasa semantyczna"
   ]
  },
  {
   "cell_type": "code",
   "execution_count": 11,
   "metadata": {},
   "outputs": [
    {
     "data": {
      "text/plain": [
       "epistemiczny    70\n",
       "mówienia        26\n",
       "wolicjonalny    10\n",
       "percepcyjny      1\n",
       "Name: verb - third semantic class, dtype: int64"
      ]
     },
     "execution_count": 11,
     "metadata": {},
     "output_type": "execute_result"
    }
   ],
   "source": [
    "data[\"verb - third semantic class\"].value_counts()"
   ]
  },
  {
   "cell_type": "markdown",
   "metadata": {},
   "source": [
    "# Liczba poszczególnych znaków - anotacja relacji semantycznych"
   ]
  },
  {
   "cell_type": "code",
   "execution_count": 12,
   "metadata": {},
   "outputs": [
    {
     "data": {
      "text/plain": [
       "N    1614\n",
       "E     830\n",
       "?      88\n",
       "C      64\n",
       "Name: GOLD <T,H>, dtype: int64"
      ]
     },
     "execution_count": 12,
     "metadata": {},
     "output_type": "execute_result"
    }
   ],
   "source": [
    "data[\"GOLD <T,H>\"].value_counts()"
   ]
  },
  {
   "cell_type": "markdown",
   "metadata": {},
   "source": [
    "# Liczba poszczególnych znaków - werydyczność (pozytywne otoczenie)"
   ]
  },
  {
   "cell_type": "code",
   "execution_count": 13,
   "metadata": {},
   "outputs": [
    {
     "data": {
      "text/plain": [
       "o       1738\n",
       "\"+\"      796\n",
       "\"-\"       33\n",
       "\"+?\"      14\n",
       "o?        13\n",
       "?          2\n",
       "Name: verb - veridical (positive enviroment), dtype: int64"
      ]
     },
     "execution_count": 13,
     "metadata": {},
     "output_type": "execute_result"
    }
   ],
   "source": [
    "data[\"verb - veridical (positive enviroment)\"].value_counts()"
   ]
  },
  {
   "cell_type": "markdown",
   "metadata": {},
   "source": [
    "# Liczba poszczególnych znaków - werydyczność (negatywne otoczenie)"
   ]
  },
  {
   "cell_type": "code",
   "execution_count": 14,
   "metadata": {},
   "outputs": [
    {
     "data": {
      "text/plain": [
       "o       1872\n",
       "\"+\"      589\n",
       "?         97\n",
       "\"-\"       22\n",
       "1?         9\n",
       "\"+?\"       7\n",
       "Name: verb - veridical (negative enviroment), dtype: int64"
      ]
     },
     "execution_count": 14,
     "metadata": {},
     "output_type": "execute_result"
    }
   ],
   "source": [
    "data[\"verb - veridical (negative enviroment)\"].value_counts()"
   ]
  },
  {
   "cell_type": "markdown",
   "metadata": {},
   "source": [
    "## Wykres korelacji"
   ]
  },
  {
   "cell_type": "code",
   "execution_count": 15,
   "metadata": {},
   "outputs": [
    {
     "data": {
      "text/plain": [
       "<matplotlib.axes._subplots.AxesSubplot at 0x17dc03a4508>"
      ]
     },
     "execution_count": 15,
     "metadata": {},
     "output_type": "execute_result"
    },
    {
     "data": {
      "image/png": "[encoded data removed]",
      "text/plain": [
       "<Figure size 432x288 with 2 Axes>"
      ]
     },
     "metadata": {
      "needs_background": "light"
     },
     "output_type": "display_data"
    }
   ],
   "source": [
    "sb.heatmap(data.corr())"
   ]
  },
  {
   "cell_type": "markdown",
   "metadata": {},
   "source": [
    "## Eksport danych do plików csv"
   ]
  },
  {
   "cell_type": "code",
   "execution_count": 17,
   "metadata": {},
   "outputs": [],
   "source": [
    "inputData = data[['verb', 'verb - main semantic class', 'verb - second semantic class', 'verb - third semantic class', 'verb - tense']]\n",
    "\n",
    "outputData = data[['verb - veridical (positive enviroment)', 'verb - veridical (negative enviroment)']]\n",
    "\n",
    "inputData.to_csv(path_or_buf = \"input.csv\", index=False)\n",
    "outputData.to_csv(path_or_buf = \"output.csv\", index=False)"
   ]
  },
  {
   "cell_type": "code",
   "execution_count": null,
   "metadata": {},
   "outputs": [],
   "source": []
  }
 ],
 "metadata": {
  "kernelspec": {
   "display_name": "Python 3",
   "language": "python",
   "name": "python3"
  },
  "language_info": {
   "codemirror_mode": {
    "name": "ipython",
    "version": 3
   },
   "file_extension": ".py",
   "mimetype": "text/x-python",
   "name": "python",
   "nbconvert_exporter": "python",
   "pygments_lexer": "ipython3",
   "version": "3.7.4"
  }
 },
 "nbformat": 4,
 "nbformat_minor": 2
}
