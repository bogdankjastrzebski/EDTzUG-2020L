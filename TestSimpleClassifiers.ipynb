{
 "cells": [
  {
   "cell_type": "code",
   "execution_count": 1,
   "metadata": {},
   "outputs": [],
   "source": [
    "import numpy as np\n",
    "import pandas as pd\n",
    "import sklearn as sk\n",
    "import convertDictionaries as cd\n",
    "from sklearn.model_selection import cross_val_score\n",
    "\n",
    "#import classifiers\n",
    "from sklearn.neural_network import MLPClassifier\n",
    "from sklearn.neighbors import KNeighborsClassifier\n",
    "from sklearn.tree import DecisionTreeClassifier\n",
    "from sklearn.ensemble import RandomForestClassifier"
   ]
  },
  {
   "cell_type": "markdown",
   "metadata": {},
   "source": [
    "# Check representation of data"
   ]
  },
  {
   "cell_type": "markdown",
   "metadata": {},
   "source": [
    "Load data"
   ]
  },
  {
   "cell_type": "code",
   "execution_count": 2,
   "metadata": {},
   "outputs": [
    {
     "data": {
      "text/html": [
       "<div>\n",
       "<style scoped>\n",
       "    .dataframe tbody tr th:only-of-type {\n",
       "        vertical-align: middle;\n",
       "    }\n",
       "\n",
       "    .dataframe tbody tr th {\n",
       "        vertical-align: top;\n",
       "    }\n",
       "\n",
       "    .dataframe thead th {\n",
       "        text-align: right;\n",
       "    }\n",
       "</style>\n",
       "<table border=\"1\" class=\"dataframe\">\n",
       "  <thead>\n",
       "    <tr style=\"text-align: right;\">\n",
       "      <th></th>\n",
       "      <th>id - pair</th>\n",
       "      <th>Deepl</th>\n",
       "      <th>czy była korekta translatora</th>\n",
       "      <th>T ENG</th>\n",
       "      <th>T PL</th>\n",
       "      <th>GOLD &lt;T,H&gt;</th>\n",
       "      <th>T - type of sentence</th>\n",
       "      <th>text - number</th>\n",
       "      <th>verb - main semantic class</th>\n",
       "      <th>verb - second semantic class</th>\n",
       "      <th>...</th>\n",
       "      <th>presupposition</th>\n",
       "      <th>ewaluacja wynikania ES</th>\n",
       "      <th>ewaluacja wynikania ŁW</th>\n",
       "      <th>ES &lt;T1, H&gt;</th>\n",
       "      <th>ŁW &lt;T1, H&gt;</th>\n",
       "      <th>anotator_ES</th>\n",
       "      <th>annotator_ŁW</th>\n",
       "      <th>annotator_JB</th>\n",
       "      <th>annotator_SF</th>\n",
       "      <th>Unnamed: 32</th>\n",
       "    </tr>\n",
       "  </thead>\n",
       "  <tbody>\n",
       "    <tr>\n",
       "      <th>0</th>\n",
       "      <td>1203</td>\n",
       "      <td>I said, \"I have a test, I'm gonna fail biology...</td>\n",
       "      <td>1</td>\n",
       "      <td>To which I said that I was to write a class te...</td>\n",
       "      <td>Ja na to, że mam klasówkę, że zawalę biologię ...</td>\n",
       "      <td>N</td>\n",
       "      <td>eliptyczne</td>\n",
       "      <td>2531</td>\n",
       "      <td>mówienia</td>\n",
       "      <td>NaN</td>\n",
       "      <td>...</td>\n",
       "      <td>nie dotyczy</td>\n",
       "      <td>NaN</td>\n",
       "      <td>NaN</td>\n",
       "      <td>NaN</td>\n",
       "      <td>NaN</td>\n",
       "      <td>N</td>\n",
       "      <td>E</td>\n",
       "      <td>?</td>\n",
       "      <td>N</td>\n",
       "      <td>NaN</td>\n",
       "    </tr>\n",
       "    <tr>\n",
       "      <th>1</th>\n",
       "      <td>1671</td>\n",
       "      <td>Gliński did not have to turn his head to guess...</td>\n",
       "      <td>1</td>\n",
       "      <td>Gliński did not have to turn his head to guess...</td>\n",
       "      <td>Ani że na progu stanął właśnie Romanyczko.</td>\n",
       "      <td>?</td>\n",
       "      <td>eliptyczne</td>\n",
       "      <td>2978</td>\n",
       "      <td>epistemiczny</td>\n",
       "      <td>NaN</td>\n",
       "      <td>...</td>\n",
       "      <td>no</td>\n",
       "      <td>E</td>\n",
       "      <td>E</td>\n",
       "      <td>E</td>\n",
       "      <td>E</td>\n",
       "      <td>NaN</td>\n",
       "      <td>NaN</td>\n",
       "      <td>NaN</td>\n",
       "      <td>NaN</td>\n",
       "      <td>NaN</td>\n",
       "    </tr>\n",
       "    <tr>\n",
       "      <th>2</th>\n",
       "      <td>2441</td>\n",
       "      <td>Then he'll bring the Chinese back.</td>\n",
       "      <td>1</td>\n",
       "      <td>Earlier Ukrainians were said to come and work,...</td>\n",
       "      <td>Potem, że się przywiezie Chińczyków.</td>\n",
       "      <td>N</td>\n",
       "      <td>eliptyczne</td>\n",
       "      <td>3489</td>\n",
       "      <td>mówienia</td>\n",
       "      <td>NaN</td>\n",
       "      <td>...</td>\n",
       "      <td>nie dotyczy</td>\n",
       "      <td>NaN</td>\n",
       "      <td>NaN</td>\n",
       "      <td>NaN</td>\n",
       "      <td>NaN</td>\n",
       "      <td>NaN</td>\n",
       "      <td>NaN</td>\n",
       "      <td>NaN</td>\n",
       "      <td>NaN</td>\n",
       "      <td>NaN</td>\n",
       "    </tr>\n",
       "    <tr>\n",
       "      <th>3</th>\n",
       "      <td>945</td>\n",
       "      <td>He got weaker and weaker and felt that it was ...</td>\n",
       "      <td>0</td>\n",
       "      <td>He got weaker and weaker and felt that it was ...</td>\n",
       "      <td>Słabł coraz bardziej, czuł, że to kwestia zale...</td>\n",
       "      <td>N</td>\n",
       "      <td>1</td>\n",
       "      <td>2119</td>\n",
       "      <td>epistemiczny</td>\n",
       "      <td>percepcyjny</td>\n",
       "      <td>...</td>\n",
       "      <td>nie dotyczy</td>\n",
       "      <td>NaN</td>\n",
       "      <td>NaN</td>\n",
       "      <td>NaN</td>\n",
       "      <td>NaN</td>\n",
       "      <td>NaN</td>\n",
       "      <td>NaN</td>\n",
       "      <td>NaN</td>\n",
       "      <td>NaN</td>\n",
       "      <td>NaN</td>\n",
       "    </tr>\n",
       "    <tr>\n",
       "      <th>4</th>\n",
       "      <td>947</td>\n",
       "      <td>However, people who are very seriously ill, wh...</td>\n",
       "      <td>0</td>\n",
       "      <td>However, people who are very seriously ill, wh...</td>\n",
       "      <td>Jednak ludzie bardzo ciężko chorzy, gdy już cz...</td>\n",
       "      <td>N</td>\n",
       "      <td>1</td>\n",
       "      <td>2123</td>\n",
       "      <td>epistemiczny</td>\n",
       "      <td>percepcyjny</td>\n",
       "      <td>...</td>\n",
       "      <td>nie dotyczy</td>\n",
       "      <td>NaN</td>\n",
       "      <td>NaN</td>\n",
       "      <td>NaN</td>\n",
       "      <td>NaN</td>\n",
       "      <td>N</td>\n",
       "      <td>N</td>\n",
       "      <td>E</td>\n",
       "      <td>E</td>\n",
       "      <td>NaN</td>\n",
       "    </tr>\n",
       "  </tbody>\n",
       "</table>\n",
       "<p>5 rows × 33 columns</p>\n",
       "</div>"
      ],
      "text/plain": [
       "   id - pair                                              Deepl  \\\n",
       "0       1203  I said, \"I have a test, I'm gonna fail biology...   \n",
       "1       1671  Gliński did not have to turn his head to guess...   \n",
       "2       2441                 Then he'll bring the Chinese back.   \n",
       "3        945  He got weaker and weaker and felt that it was ...   \n",
       "4        947  However, people who are very seriously ill, wh...   \n",
       "\n",
       "   czy była korekta translatora  \\\n",
       "0                             1   \n",
       "1                             1   \n",
       "2                             1   \n",
       "3                             0   \n",
       "4                             0   \n",
       "\n",
       "                                               T ENG  \\\n",
       "0  To which I said that I was to write a class te...   \n",
       "1  Gliński did not have to turn his head to guess...   \n",
       "2  Earlier Ukrainians were said to come and work,...   \n",
       "3  He got weaker and weaker and felt that it was ...   \n",
       "4  However, people who are very seriously ill, wh...   \n",
       "\n",
       "                                                T PL GOLD <T,H>  \\\n",
       "0  Ja na to, że mam klasówkę, że zawalę biologię ...          N   \n",
       "1         Ani że na progu stanął właśnie Romanyczko.          ?   \n",
       "2               Potem, że się przywiezie Chińczyków.          N   \n",
       "3  Słabł coraz bardziej, czuł, że to kwestia zale...          N   \n",
       "4  Jednak ludzie bardzo ciężko chorzy, gdy już cz...          N   \n",
       "\n",
       "  T - type of sentence  text - number verb - main semantic class  \\\n",
       "0           eliptyczne           2531                   mówienia   \n",
       "1           eliptyczne           2978               epistemiczny   \n",
       "2           eliptyczne           3489                   mówienia   \n",
       "3                    1           2119               epistemiczny   \n",
       "4                    1           2123               epistemiczny   \n",
       "\n",
       "  verb - second semantic class  ... presupposition  ewaluacja wynikania ES  \\\n",
       "0                          NaN  ...    nie dotyczy                     NaN   \n",
       "1                          NaN  ...             no                       E   \n",
       "2                          NaN  ...    nie dotyczy                     NaN   \n",
       "3                  percepcyjny  ...    nie dotyczy                     NaN   \n",
       "4                  percepcyjny  ...    nie dotyczy                     NaN   \n",
       "\n",
       "  ewaluacja wynikania ŁW ES <T1, H> ŁW <T1, H> anotator_ES annotator_ŁW  \\\n",
       "0                    NaN        NaN        NaN           N            E   \n",
       "1                      E          E          E         NaN          NaN   \n",
       "2                    NaN        NaN        NaN         NaN          NaN   \n",
       "3                    NaN        NaN        NaN         NaN          NaN   \n",
       "4                    NaN        NaN        NaN           N            N   \n",
       "\n",
       "  annotator_JB annotator_SF Unnamed: 32  \n",
       "0            ?            N         NaN  \n",
       "1          NaN          NaN         NaN  \n",
       "2          NaN          NaN         NaN  \n",
       "3          NaN          NaN         NaN  \n",
       "4            E            E         NaN  \n",
       "\n",
       "[5 rows x 33 columns]"
      ]
     },
     "execution_count": 2,
     "metadata": {},
     "output_type": "execute_result"
    }
   ],
   "source": [
    "data = pd.read_excel(\"LingFeatured NLI_PL_20.03.2020.xlsx\")\n",
    "data.head()"
   ]
  },
  {
   "cell_type": "code",
   "execution_count": 3,
   "metadata": {},
   "outputs": [
    {
     "data": {
      "text/plain": [
       "Index(['id - pair', 'Deepl', 'czy była korekta translatora', 'T ENG', 'T PL',\n",
       "       'GOLD <T,H>', 'T - type of sentence', 'text - number',\n",
       "       'verb - main semantic class', 'verb - second semantic class',\n",
       "       'verb - third semantic class', 'verb id', 'GOLD <T1,H>', 'WN', 'verb',\n",
       "       'verb - veridical (positive enviroment)',\n",
       "       'verb - veridical (negative enviroment)', 'T1', 'H', 'verb - tense',\n",
       "       'realizacja predykatów', 'T - negation', 'complement - tense',\n",
       "       'presupposition', 'ewaluacja wynikania ES', 'ewaluacja wynikania ŁW',\n",
       "       'ES <T1, H>', 'ŁW <T1, H>', 'anotator_ES', 'annotator_ŁW',\n",
       "       'annotator_JB', 'annotator_SF', 'Unnamed: 32'],\n",
       "      dtype='object')"
      ]
     },
     "execution_count": 3,
     "metadata": {},
     "output_type": "execute_result"
    }
   ],
   "source": [
    "data.columns"
   ]
  },
  {
   "cell_type": "code",
   "execution_count": 4,
   "metadata": {},
   "outputs": [],
   "source": [
    "verbAtt = data[['verb - main semantic class', 'verb - second semantic class',\n",
    "       'verb - third semantic class', 'verb - tense']]\n",
    "\n",
    "verbSig = data[['verb - veridical (positive enviroment)', 'verb - veridical (negative enviroment)']]"
   ]
  },
  {
   "cell_type": "markdown",
   "metadata": {},
   "source": [
    "Define estimators"
   ]
  },
  {
   "cell_type": "code",
   "execution_count": 5,
   "metadata": {},
   "outputs": [],
   "source": [
    "estimators = [\n",
    "    KNeighborsClassifier(3),\n",
    "    DecisionTreeClassifier(max_depth=5),\n",
    "    RandomForestClassifier(max_depth=5, n_estimators=10, max_features=1),\n",
    "    MLPClassifier(alpha=1, max_iter=1000),\n",
    "]"
   ]
  },
  {
   "cell_type": "code",
   "execution_count": 20,
   "metadata": {},
   "outputs": [],
   "source": [
    "def checkEstimator(estimator, inData, outData, cvVal = 5):\n",
    "    estimator.fit(inData, outData)\n",
    "    simpleScore = estimator.score(inData, outData)\n",
    "    cvScore = cross_val_score(estimator, inData, outData, cv = cvVal)    \n",
    "    print(str(estimator.__class__.__name__))\n",
    "    print('simple score - ' + str(simpleScore))\n",
    "    print('cross validation score - ' + str(cvScore))\n",
    "    print('')"
   ]
  },
  {
   "cell_type": "markdown",
   "metadata": {},
   "source": [
    "Represent as hot ones"
   ]
  },
  {
   "cell_type": "code",
   "execution_count": 7,
   "metadata": {},
   "outputs": [],
   "source": [
    "verbAttHotOnes = pd.get_dummies(verbAtt)\n",
    "verbSigHotOnes = pd.get_dummies(verbSig)"
   ]
  },
  {
   "cell_type": "code",
   "execution_count": 21,
   "metadata": {
    "scrolled": true
   },
   "outputs": [
    {
     "name": "stdout",
     "output_type": "stream",
     "text": [
      "KNeighborsClassifier\n",
      "simple score - 0.762326656394453\n",
      "cross validation score - [0.71730769 0.69749518 0.79576108 0.52986513 0.59344894]\n",
      "\n",
      "DecisionTreeClassifier\n",
      "simple score - 0.7272727272727273\n",
      "cross validation score - [0.71153846 0.64354528 0.78420039 0.53371869 0.63391137]\n",
      "\n",
      "RandomForestClassifier\n",
      "simple score - 0.7014637904468413\n",
      "cross validation score - [0.74230769 0.67052023 0.80346821 0.5433526  0.56840077]\n",
      "\n",
      "MLPClassifier\n",
      "simple score - 0.7661787365177196\n",
      "cross validation score - [0.74615385 0.70327553 0.7938343  0.53564547 0.5973025 ]\n",
      "\n"
     ]
    }
   ],
   "source": [
    "for est in estimators:\n",
    "    checkEstimator(est, verbAttHotOnes, verbSigHotOnes)"
   ]
  },
  {
   "cell_type": "markdown",
   "metadata": {},
   "source": [
    "Represent as simple enums"
   ]
  },
  {
   "cell_type": "code",
   "execution_count": 25,
   "metadata": {},
   "outputs": [],
   "source": [
    "verbAttEnum = verbAtt.copy()\n",
    "\n",
    "verbAttEnum['verb - main semantic class'] = verbAttEnum['verb - main semantic class'].apply(cd.convertData, args=[cd.semanticClass])\n",
    "verbAttEnum['verb - second semantic class'] = verbAttEnum['verb - second semantic class'].apply(cd.convertData, args=[cd.semanticClass])\n",
    "verbAttEnum['verb - third semantic class'] = verbAttEnum['verb - third semantic class'].apply(cd.convertData, args=[cd.semanticClass])\n",
    "verbAttEnum['verb - tense'] = verbAttEnum['verb - tense'].apply(cd.convertData, args=[cd.verbTense])\n",
    "\n",
    "verbSigEnum = verbSig.copy()\n",
    "\n",
    "verbSigEnum['verb - veridical (positive enviroment)'] = verbSigEnum['verb - veridical (positive enviroment)'].apply(cd.convertData,args=[cd.verbVeridical])\n",
    "verbSigEnum['verb - veridical (negative enviroment)'] = verbSigEnum['verb - veridical (negative enviroment)'].apply(cd.convertData,args=[cd.verbVeridical])"
   ]
  },
  {
   "cell_type": "code",
   "execution_count": 26,
   "metadata": {},
   "outputs": [
    {
     "name": "stderr",
     "output_type": "stream",
     "text": [
      "C:\\Users\\macie\\AppData\\Local\\Programs\\Python\\Python37\\lib\\site-packages\\sklearn\\model_selection\\_split.py:667: UserWarning: The least populated class in y has only 2 members, which is less than n_splits=5.\n",
      "  % (min_groups, self.n_splits)), UserWarning)\n",
      "C:\\Users\\macie\\AppData\\Local\\Programs\\Python\\Python37\\lib\\site-packages\\sklearn\\model_selection\\_split.py:667: UserWarning: The least populated class in y has only 2 members, which is less than n_splits=5.\n",
      "  % (min_groups, self.n_splits)), UserWarning)\n",
      "C:\\Users\\macie\\AppData\\Local\\Programs\\Python\\Python37\\lib\\site-packages\\sklearn\\model_selection\\_split.py:667: UserWarning: The least populated class in y has only 2 members, which is less than n_splits=5.\n",
      "  % (min_groups, self.n_splits)), UserWarning)\n"
     ]
    },
    {
     "name": "stdout",
     "output_type": "stream",
     "text": [
      "KNeighborsClassifier\n",
      "simple score - 0.8151001540832049\n",
      "cross validation score - [0.71153846 0.86319846 0.77649326 0.72254335 0.73025048]\n",
      "\n",
      "DecisionTreeClassifier\n",
      "simple score - 0.7966101694915254\n",
      "cross validation score - [0.75769231 0.90751445 0.80346821 0.68208092 0.73410405]\n",
      "\n",
      "RandomForestClassifier\n",
      "simple score - 0.7969953775038521\n",
      "cross validation score - [0.74423077 0.91522158 0.7283237  0.67052023 0.63776493]\n",
      "\n"
     ]
    },
    {
     "name": "stderr",
     "output_type": "stream",
     "text": [
      "C:\\Users\\macie\\AppData\\Local\\Programs\\Python\\Python37\\lib\\site-packages\\sklearn\\model_selection\\_split.py:667: UserWarning: The least populated class in y has only 2 members, which is less than n_splits=5.\n",
      "  % (min_groups, self.n_splits)), UserWarning)\n"
     ]
    },
    {
     "name": "stdout",
     "output_type": "stream",
     "text": [
      "MLPClassifier\n",
      "simple score - 0.7796610169491526\n",
      "cross validation score - [0.79038462 0.6628131  0.72639692 0.69364162 0.63198459]\n",
      "\n"
     ]
    }
   ],
   "source": [
    "for est in estimators:\n",
    "    checkEstimator(est, verbAttEnum, verbSigEnum['verb - veridical (positive enviroment)'])"
   ]
  },
  {
   "cell_type": "code",
   "execution_count": 27,
   "metadata": {},
   "outputs": [
    {
     "name": "stdout",
     "output_type": "stream",
     "text": [
      "KNeighborsClassifier\n",
      "simple score - 0.7927580893682589\n",
      "cross validation score - [0.73461538 0.73795761 0.7283237  0.72254335 0.71868979]\n",
      "\n",
      "DecisionTreeClassifier\n",
      "simple score - 0.7854391371340523\n",
      "cross validation score - [0.73653846 0.74181118 0.76685934 0.73603083 0.73025048]\n",
      "\n",
      "RandomForestClassifier\n",
      "simple score - 0.7469183359013868\n",
      "cross validation score - [0.76346154 0.75722543 0.73795761 0.75144509 0.61849711]\n",
      "\n",
      "MLPClassifier\n",
      "simple score - 0.7588597842835131\n",
      "cross validation score - [0.73076923 0.72639692 0.70327553 0.761079   0.61464355]\n",
      "\n"
     ]
    }
   ],
   "source": [
    "for est in estimators:\n",
    "    checkEstimator(est, verbAttEnum, verbSigEnum['verb - veridical (negative enviroment)'])"
   ]
  },
  {
   "cell_type": "code",
   "execution_count": null,
   "metadata": {},
   "outputs": [],
   "source": []
  }
 ],
 "metadata": {
  "kernelspec": {
   "display_name": "Python 3",
   "language": "python",
   "name": "python3"
  },
  "language_info": {
   "codemirror_mode": {
    "name": "ipython",
    "version": 3
   },
   "file_extension": ".py",
   "mimetype": "text/x-python",
   "name": "python",
   "nbconvert_exporter": "python",
   "pygments_lexer": "ipython3",
   "version": "3.7.4"
  }
 },
 "nbformat": 4,
 "nbformat_minor": 4
}
