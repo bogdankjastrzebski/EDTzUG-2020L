{
 "cells": [
  {
   "cell_type": "code",
   "execution_count": 2,
   "metadata": {},
   "outputs": [],
   "source": [
    "import numpy as np\n",
    "import pandas as pd\n",
    "import sklearn as sk\n",
    "import convertDictionaries as cd\n",
    "\n",
    "#import classifiers\n",
    "from sklearn.neural_network import MLPClassifier\n",
    "from sklearn.neighbors import KNeighborsClassifier\n",
    "from sklearn.tree import DecisionTreeClassifier\n",
    "from sklearn.ensemble import RandomForestClassifier, AdaBoostClassifier, GradientBoostingClassifier\n",
    "from sklearn.gaussian_process import GaussianProcessClassifier\n",
    "from sklearn.gaussian_process.kernels import RBF\n",
    "from sklearn.model_selection import train_test_split\n",
    "from sklearn.model_selection import cross_val_score\n",
    "from sklearn.model_selection import GroupShuffleSplit\n",
    "from sklearn.svm import SVC\n",
    "\n",
    "#import metrics\n",
    "from sklearn.model_selection import cross_val_score\n",
    "from sklearn.metrics import accuracy_score, balanced_accuracy_score, roc_auc_score, f1_score, recall_score, precision_score"
   ]
  },
  {
   "cell_type": "code",
   "execution_count": 3,
   "metadata": {},
   "outputs": [],
   "source": [
    "data = pd.read_csv(\"./finalfinalDataset.csv\")"
   ]
  },
  {
   "cell_type": "code",
   "execution_count": 4,
   "metadata": {},
   "outputs": [],
   "source": [
    "y = pd.read_csv('./output_tidy.csv').drop('Unnamed: 0', axis=1)"
   ]
  },
  {
   "cell_type": "code",
   "execution_count": 5,
   "metadata": {},
   "outputs": [
    {
     "data": {
      "text/plain": [
       "Index(['Unnamed: 0', '0', '1', '2', '3', '4', '5', '6', '7', '8',\n",
       "       ...\n",
       "       'wnioskowania', 'wolicjonalny', 'wolitywny', 'zdarzeniowy', 'o1+',\n",
       "       'o1-', 'o1o', 'o2+', 'o2-', 'o2o'],\n",
       "      dtype='object', length=325)"
      ]
     },
     "execution_count": 5,
     "metadata": {},
     "output_type": "execute_result"
    }
   ],
   "source": [
    "data.columns"
   ]
  },
  {
   "cell_type": "markdown",
   "metadata": {},
   "source": [
    "## Create test and train indices"
   ]
  },
  {
   "cell_type": "code",
   "execution_count": 6,
   "metadata": {},
   "outputs": [],
   "source": [
    "train_inds, test_inds = next(GroupShuffleSplit(test_size=.20, n_splits=2, random_state=42).split(data, groups=data['verb']))"
   ]
  },
  {
   "cell_type": "code",
   "execution_count": 7,
   "metadata": {},
   "outputs": [],
   "source": [
    "data = data.drop([\"index\", 'Unnamed: 0', 'verb'], axis=1)"
   ]
  },
  {
   "cell_type": "code",
   "execution_count": 8,
   "metadata": {},
   "outputs": [],
   "source": [
    "y_onehot = data.iloc[:, -6:]"
   ]
  },
  {
   "cell_type": "code",
   "execution_count": 9,
   "metadata": {},
   "outputs": [],
   "source": [
    "X = data.iloc[:, :-6]"
   ]
  },
  {
   "cell_type": "code",
   "execution_count": 10,
   "metadata": {},
   "outputs": [],
   "source": [
    "X_train = X.iloc[train_inds] \n",
    "X_test = X.iloc[test_inds] \n",
    "y_train = y_onehot.iloc[train_inds]  \n",
    "y_test = y_onehot.iloc[test_inds] "
   ]
  },
  {
   "cell_type": "markdown",
   "metadata": {},
   "source": [
    "## Create estimators"
   ]
  },
  {
   "cell_type": "code",
   "execution_count": 11,
   "metadata": {},
   "outputs": [],
   "source": [
    "estimators = [\n",
    "    KNeighborsClassifier(),\n",
    "    DecisionTreeClassifier(),\n",
    "    RandomForestClassifier(), \n",
    "    MLPClassifier(),\n",
    "    \n",
    "    #te rzucaja bledem\n",
    "    #AdaBoostClassifier(),\n",
    "    #GaussianProcessClassifier(),\n",
    "    #GradientBoostingClassifier(),\n",
    "    #SVC(kernel=\"linear\"),\n",
    "    #SVC(kernel=\"rbf\")\n",
    "]"
   ]
  },
  {
   "cell_type": "markdown",
   "metadata": {},
   "source": [
    "## Checking estimators' performance"
   ]
  },
  {
   "cell_type": "code",
   "execution_count": 12,
   "metadata": {},
   "outputs": [],
   "source": [
    "def check_estimator(estimator):\n",
    "    \n",
    "    print()\n",
    "    print()\n",
    "    print(str(estimator.__class__.__name__))\n",
    "    \n",
    "    #cross_val_score(estimator, X, y_onehot, cv=5)\n",
    "    \n",
    "    model = estimator.fit(X_train, y_train)\n",
    "    model.score(X_test, y_test)\n",
    "    \n",
    "    prediction = model.predict(X_test)\n",
    "    \n",
    "    classNames = data.columns[-6:].to_numpy()\n",
    "    precision = precision_score(y_test.to_numpy(),prediction, average=\"samples\")\n",
    "    recall = recall_score(y_test.to_numpy(),prediction, average=\"samples\")\n",
    "    f1 = f1_score(y_test.to_numpy(),prediction, average=\"samples\")\n",
    "    \n",
    "    print(\"class names: {0}\".format(classNames))\n",
    "    print(\"precision: {0}\".format(precision))\n",
    "    print(\"recall: {0}\".format(recall))\n",
    "    print(\"F1: {0}\".format(f1))\n",
    "    "
   ]
  },
  {
   "cell_type": "code",
   "execution_count": 13,
   "metadata": {},
   "outputs": [
    {
     "name": "stdout",
     "output_type": "stream",
     "text": [
      "\n",
      "\n",
      "KNeighborsClassifier\n",
      "class names: ['o1+' 'o1-' 'o1o' 'o2+' 'o2-' 'o2o']\n",
      "precision: 0.7435897435897436\n",
      "recall: 0.7393162393162394\n",
      "F1: 0.7407407407407407\n",
      "\n",
      "\n",
      "DecisionTreeClassifier\n",
      "class names: ['o1+' 'o1-' 'o1o' 'o2+' 'o2-' 'o2o']\n",
      "precision: 0.7222222222222222\n",
      "recall: 0.7222222222222222\n",
      "F1: 0.7222222222222222\n",
      "\n",
      "\n",
      "RandomForestClassifier\n",
      "class names: ['o1+' 'o1-' 'o1o' 'o2+' 'o2-' 'o2o']\n",
      "precision: 0.7735042735042735\n",
      "recall: 0.7606837606837606\n",
      "F1: 0.7649572649572649\n",
      "\n",
      "\n",
      "MLPClassifier\n",
      "class names: ['o1+' 'o1-' 'o1o' 'o2+' 'o2-' 'o2o']\n",
      "precision: 0.8205128205128205\n",
      "recall: 0.8034188034188035\n",
      "F1: 0.809116809116809\n"
     ]
    },
    {
     "name": "stderr",
     "output_type": "stream",
     "text": [
      "C:\\ProgramData\\Anaconda3\\lib\\site-packages\\sklearn\\neural_network\\_multilayer_perceptron.py:571: ConvergenceWarning: Stochastic Optimizer: Maximum iterations (200) reached and the optimization hasn't converged yet.\n",
      "  % self.max_iter, ConvergenceWarning)\n"
     ]
    }
   ],
   "source": [
    "for estimator in estimators:\n",
    "    check_estimator(estimator)\n",
    "    \n",
    "    \n",
    "    "
   ]
  },
  {
   "cell_type": "markdown",
   "metadata": {},
   "source": [
    "## Tuning parameters"
   ]
  },
  {
   "cell_type": "code",
   "execution_count": 33,
   "metadata": {},
   "outputs": [
    {
     "name": "stdout",
     "output_type": "stream",
     "text": [
      "{'n_neighbors': 1}\n",
      "{'criterion': 'entropy', 'max_depth': 20, 'min_samples_split': 2, 'splitter': 'random'}\n"
     ]
    }
   ],
   "source": [
    "from sklearn.metrics import make_scorer, accuracy_score\n",
    "from sklearn.model_selection import GridSearchCV\n",
    "\n",
    "param_grid_knn = [\n",
    "    {\"n_neighbors\": [1, 2, 3, 4, 5, 10]}\n",
    "]\n",
    "\n",
    "param_grid_dec_tree = [\n",
    "    {\"criterion\": [\"gini\", \"entropy\"], \"splitter\": [\"best\", \"random\"], \"min_samples_split\": [2, 4, 6], \"max_depth\": [None, 10, 20]}\n",
    "]\n",
    "\n",
    "scorers_array = {\n",
    "    'precision_score': make_scorer(precision_score, average=\"samples\"),\n",
    "    'recall_score': make_scorer(recall_score, average=\"samples\"),\n",
    "}\n",
    "\n",
    "search = GridSearchCV(KNeighborsClassifier(), param_grid_knn, scoring = scorers_array, return_train_score=True, n_jobs=-1, refit='precision_score')\n",
    "search.fit(X_train, y_train)\n",
    "print(search.best_params_)\n",
    "\n",
    "search = GridSearchCV(DecisionTreeClassifier(), param_grid_dec_tree, scoring = scorers_array, return_train_score=True, n_jobs=-1, refit='precision_score')\n",
    "search.fit(X_train, y_train)\n",
    "print(search.best_params_)"
   ]
  },
  {
   "cell_type": "code",
   "execution_count": 32,
   "metadata": {},
   "outputs": [
    {
     "data": {
      "text/plain": [
       "GridSearchCV(cv=None, error_score=nan,\n",
       "             estimator=DecisionTreeClassifier(ccp_alpha=0.0, class_weight=None,\n",
       "                                              criterion='gini', max_depth=None,\n",
       "                                              max_features=None,\n",
       "                                              max_leaf_nodes=None,\n",
       "                                              min_impurity_decrease=0.0,\n",
       "                                              min_impurity_split=None,\n",
       "                                              min_samples_leaf=1,\n",
       "                                              min_samples_split=2,\n",
       "                                              min_weight_fraction_leaf=0.0,\n",
       "                                              presort='deprecated',\n",
       "                                              random_state=None,\n",
       "                                              splitter='best'),\n",
       "             iid=...n_jobs=-1,\n",
       "             param_grid=[{'criterion': ['gini', 'entropy'],\n",
       "                          'max_depth': [None, 10, 20],\n",
       "                          'min_samples_split': [2, 4, 6],\n",
       "                          'splitter': ['best', 'random']}],\n",
       "             pre_dispatch='2*n_jobs', refit='precision_score',\n",
       "             return_train_score=True,\n",
       "             scoring={'precision_score': make_scorer(precision_score, average=samples),\n",
       "                      'recall_score': make_scorer(recall_score, average=samples)},\n",
       "             verbose=0)"
      ]
     },
     "execution_count": 32,
     "metadata": {},
     "output_type": "execute_result"
    }
   ],
   "source": []
  }
 ],
 "metadata": {
  "kernelspec": {
   "display_name": "Python 3",
   "language": "python",
   "name": "python3"
  },
  "language_info": {
   "codemirror_mode": {
    "name": "ipython",
    "version": 3
   },
   "file_extension": ".py",
   "mimetype": "text/x-python",
   "name": "python",
   "nbconvert_exporter": "python",
   "pygments_lexer": "ipython3",
   "version": "3.7.6"
  }
 },
 "nbformat": 4,
 "nbformat_minor": 2
}
