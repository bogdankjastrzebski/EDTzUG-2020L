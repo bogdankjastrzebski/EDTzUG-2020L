{
 "cells": [
  {
   "cell_type": "code",
   "execution_count": 3,
   "metadata": {},
   "outputs": [],
   "source": [
    "import numpy as np\n",
    "import pandas as pd\n",
    "import sklearn as sk\n",
    "\n",
    "#import classifiers\n",
    "from sklearn.neural_network import MLPClassifier\n",
    "from sklearn.neighbors import KNeighborsClassifier\n",
    "from sklearn.tree import DecisionTreeClassifier\n",
    "from sklearn.ensemble import RandomForestClassifier, AdaBoostClassifier, GradientBoostingClassifier\n",
    "from sklearn.gaussian_process import GaussianProcessClassifier\n",
    "from sklearn.gaussian_process.kernels import RBF\n",
    "from sklearn.model_selection import train_test_split\n",
    "from sklearn.model_selection import cross_val_score\n",
    "from sklearn.model_selection import GroupShuffleSplit\n",
    "from sklearn.svm import SVC\n",
    "\n",
    "#import metrics\n",
    "from sklearn.model_selection import cross_val_score\n",
    "from sklearn.metrics import make_scorer\n",
    "from sklearn.model_selection import GridSearchCV\n",
    "from sklearn.metrics import accuracy_score, balanced_accuracy_score, roc_auc_score, f1_score, recall_score, precision_score"
   ]
  },
  {
   "cell_type": "markdown",
   "metadata": {},
   "source": [
    "# Wczytanie danych"
   ]
  },
  {
   "cell_type": "code",
   "execution_count": 4,
   "metadata": {},
   "outputs": [],
   "source": [
    "data = pd.read_csv(\"./finalfinalDataset.csv\")"
   ]
  },
  {
   "cell_type": "code",
   "execution_count": 5,
   "metadata": {},
   "outputs": [],
   "source": [
    "y = pd.read_csv('./output_tidy.csv').drop('Unnamed: 0', axis=1)"
   ]
  },
  {
   "cell_type": "code",
   "execution_count": 6,
   "metadata": {},
   "outputs": [
    {
     "data": {
      "text/plain": [
       "Index(['Unnamed: 0', '0', '1', '2', '3', '4', '5', '6', '7', '8',\n",
       "       ...\n",
       "       'wnioskowania', 'wolicjonalny', 'wolitywny', 'zdarzeniowy', 'o1+',\n",
       "       'o1-', 'o1o', 'o2+', 'o2-', 'o2o'],\n",
       "      dtype='object', length=325)"
      ]
     },
     "execution_count": 6,
     "metadata": {},
     "output_type": "execute_result"
    }
   ],
   "source": [
    "data.columns"
   ]
  },
  {
   "cell_type": "markdown",
   "metadata": {},
   "source": [
    "## Podział zbioru na dane testowe i treningowe"
   ]
  },
  {
   "cell_type": "code",
   "execution_count": 7,
   "metadata": {},
   "outputs": [],
   "source": [
    "train_inds, test_inds = next(GroupShuffleSplit(test_size=.2, n_splits=2, random_state=44).split(data, groups=data['verb']))"
   ]
  },
  {
   "cell_type": "code",
   "execution_count": 8,
   "metadata": {},
   "outputs": [],
   "source": [
    "data = data.drop([\"index\", 'Unnamed: 0', 'verb'], axis=1)"
   ]
  },
  {
   "cell_type": "code",
   "execution_count": 9,
   "metadata": {},
   "outputs": [],
   "source": [
    "y_onehot = data.iloc[:, -6:]"
   ]
  },
  {
   "cell_type": "code",
   "execution_count": 10,
   "metadata": {},
   "outputs": [],
   "source": [
    "a1 = y_onehot.iloc[:,:3].values.argmax(1).astype(str)\n",
    "a2 = y_onehot.iloc[:,3:].values.argmax(1).astype(str)"
   ]
  },
  {
   "cell_type": "code",
   "execution_count": 11,
   "metadata": {},
   "outputs": [],
   "source": [
    "labels = np.core.defchararray.add(a1, a2)"
   ]
  },
  {
   "cell_type": "code",
   "execution_count": 12,
   "metadata": {},
   "outputs": [],
   "source": [
    "X = data.iloc[:, :-6]"
   ]
  },
  {
   "cell_type": "code",
   "execution_count": 13,
   "metadata": {},
   "outputs": [],
   "source": [
    "X_train = X.iloc[train_inds] \n",
    "X_test = X.iloc[test_inds] \n",
    "y_train = y_onehot.iloc[train_inds]  \n",
    "y_test = y_onehot.iloc[test_inds] \n",
    "l_train = labels[train_inds]  \n",
    "l_test = labels[test_inds] "
   ]
  },
  {
   "cell_type": "markdown",
   "metadata": {},
   "source": [
    "## Definicja zakresu poszukiwań parametrów klasyfikatorów"
   ]
  },
  {
   "cell_type": "code",
   "execution_count": 14,
   "metadata": {},
   "outputs": [],
   "source": [
    "estimators_parameters = {\n",
    "    \n",
    "    KNeighborsClassifier() : [{\n",
    "        \"n_neighbors\": np.arange(2, 10)\n",
    "    }],\n",
    "    \n",
    "    RandomForestClassifier() : [{\n",
    "        \"n_estimators\" : range(100, 1000, 10),\n",
    "        \"criterion\" : [\"gini\", \"entropy\"],\n",
    "        \"max_features\" : [\"auto\", \"sqrt\", \"log2\"]\n",
    "    }],\n",
    "   \n",
    "    MLPClassifier() : [{\n",
    "        \"activation\" : [\"identity\", \"logistic\", \"tanh\", \"relu\"],\n",
    "        \"solver\" : [\"lbfgs\", \"sgd\", \"adam\"],\n",
    "        \"alpha\" : [0.0001, 0.0005, 0.00001, 0.001],\n",
    "        \"learning_rate\" : [\"constant\", \"invscaling\", \"adaptive\"]\n",
    "    }],\n",
    "    \n",
    "    AdaBoostClassifier() : [{\n",
    "        \"n_estimators\": np.arange(100,1000,10)\n",
    "    }],\n",
    "    \n",
    "    GaussianProcessClassifier() : [{\n",
    "        \n",
    "    }],\n",
    "    \n",
    "     GradientBoostingClassifier() : [{        \n",
    "        \"n_estimators\": np.arange(100,1000,10),\n",
    "        \"max_depth\": np.arange(3,10)\n",
    "    }],\n",
    "    \n",
    "     SVC() : [{\n",
    "        \"C\": np.linspace(0.01,10,10),\n",
    "        \"gamma\": np.linspace(1/2/316, 2/316, 10)\n",
    "    }]\n",
    " }\n",
    "\n",
    "estimators = estimators_parameters.keys()"
   ]
  },
  {
   "cell_type": "markdown",
   "metadata": {},
   "source": [
    "## Test wydajności klasyfikatorów"
   ]
  },
  {
   "cell_type": "code",
   "execution_count": 15,
   "metadata": {
    "scrolled": true
   },
   "outputs": [
    {
     "data": {
      "text/plain": [
       "array(['00', '01', '02', '10', '11', '12', '20', '22'], dtype='<U42')"
      ]
     },
     "execution_count": 15,
     "metadata": {},
     "output_type": "execute_result"
    }
   ],
   "source": [
    "np.unique(l_train)"
   ]
  },
  {
   "cell_type": "code",
   "execution_count": 16,
   "metadata": {},
   "outputs": [
    {
     "data": {
      "text/plain": [
       "array(['00', '02', '12', '20', '22'], dtype='<U42')"
      ]
     },
     "execution_count": 16,
     "metadata": {},
     "output_type": "execute_result"
    }
   ],
   "source": [
    "np.unique(l_test)"
   ]
  },
  {
   "cell_type": "code",
   "execution_count": 54,
   "metadata": {},
   "outputs": [
    {
     "name": "stdout",
     "output_type": "stream",
     "text": [
      "KNeighborsClassifier\n"
     ]
    },
    {
     "name": "stderr",
     "output_type": "stream",
     "text": [
      "C:\\Users\\macie\\AppData\\Local\\Programs\\Python\\Python37\\lib\\site-packages\\sklearn\\model_selection\\_split.py:667: UserWarning: The least populated class in y has only 1 members, which is less than n_splits=5.\n",
      "  % (min_groups, self.n_splits)), UserWarning)\n"
     ]
    },
    {
     "name": "stdout",
     "output_type": "stream",
     "text": [
      "Best search parameters\n",
      "{'n_neighbors': 3}\n",
      "0.7201670409913806\n",
      "\n",
      "Class names: ['o1+' 'o1-' 'o1o' 'o2+' 'o2-' 'o2o']\n",
      "Precision: 0.7755544840887174\n",
      "Recall: 0.7950819672131147\n",
      "F1: 0.7817564948712489\n",
      "\n",
      "\n",
      "-----------------------------------------------\n",
      "\n",
      "RandomForestClassifier\n"
     ]
    },
    {
     "name": "stderr",
     "output_type": "stream",
     "text": [
      "C:\\Users\\macie\\AppData\\Local\\Programs\\Python\\Python37\\lib\\site-packages\\sklearn\\metrics\\_classification.py:1268: UndefinedMetricWarning: Precision is ill-defined and being set to 0.0 in labels with no predicted samples. Use `zero_division` parameter to control this behavior.\n",
      "  _warn_prf(average, modifier, msg_start, len(result))\n",
      "C:\\Users\\macie\\AppData\\Local\\Programs\\Python\\Python37\\lib\\site-packages\\sklearn\\model_selection\\_split.py:667: UserWarning: The least populated class in y has only 1 members, which is less than n_splits=5.\n",
      "  % (min_groups, self.n_splits)), UserWarning)\n"
     ]
    },
    {
     "name": "stdout",
     "output_type": "stream",
     "text": [
      "Best search parameters\n",
      "{'criterion': 'gini', 'max_features': 'auto', 'n_estimators': 110}\n",
      "0.7013757733282977\n",
      "\n",
      "Class names: ['o1+' 'o1-' 'o1o' 'o2+' 'o2-' 'o2o']\n",
      "Precision: 0.5990349586661062\n",
      "Recall: 0.6967213114754098\n",
      "F1: 0.6319223269882839\n",
      "\n",
      "\n",
      "-----------------------------------------------\n",
      "\n",
      "MLPClassifier\n"
     ]
    },
    {
     "name": "stderr",
     "output_type": "stream",
     "text": [
      "C:\\Users\\macie\\AppData\\Local\\Programs\\Python\\Python37\\lib\\site-packages\\sklearn\\metrics\\_classification.py:1268: UndefinedMetricWarning: Precision is ill-defined and being set to 0.0 in labels with no predicted samples. Use `zero_division` parameter to control this behavior.\n",
      "  _warn_prf(average, modifier, msg_start, len(result))\n",
      "C:\\Users\\macie\\AppData\\Local\\Programs\\Python\\Python37\\lib\\site-packages\\sklearn\\model_selection\\_split.py:667: UserWarning: The least populated class in y has only 1 members, which is less than n_splits=5.\n",
      "  % (min_groups, self.n_splits)), UserWarning)\n",
      "C:\\Users\\macie\\AppData\\Local\\Programs\\Python\\Python37\\lib\\site-packages\\sklearn\\neural_network\\_multilayer_perceptron.py:571: ConvergenceWarning: Stochastic Optimizer: Maximum iterations (200) reached and the optimization hasn't converged yet.\n",
      "  % self.max_iter, ConvergenceWarning)\n",
      "C:\\Users\\macie\\AppData\\Local\\Programs\\Python\\Python37\\lib\\site-packages\\sklearn\\metrics\\_classification.py:1268: UndefinedMetricWarning: Precision is ill-defined and being set to 0.0 in labels with no predicted samples. Use `zero_division` parameter to control this behavior.\n",
      "  _warn_prf(average, modifier, msg_start, len(result))\n"
     ]
    },
    {
     "name": "stdout",
     "output_type": "stream",
     "text": [
      "Best search parameters\n",
      "{'activation': 'relu', 'alpha': 0.001, 'learning_rate': 'invscaling', 'solver': 'adam'}\n",
      "0.8227762078745607\n",
      "\n",
      "Class names: ['o1+' 'o1-' 'o1o' 'o2+' 'o2-' 'o2o']\n",
      "Precision: 0.8264993674123126\n",
      "Recall: 0.860655737704918\n",
      "F1: 0.8394059412802202\n",
      "\n",
      "\n",
      "-----------------------------------------------\n",
      "\n",
      "AdaBoostClassifier\n"
     ]
    },
    {
     "name": "stderr",
     "output_type": "stream",
     "text": [
      "C:\\Users\\macie\\AppData\\Local\\Programs\\Python\\Python37\\lib\\site-packages\\sklearn\\model_selection\\_split.py:667: UserWarning: The least populated class in y has only 1 members, which is less than n_splits=5.\n",
      "  % (min_groups, self.n_splits)), UserWarning)\n"
     ]
    },
    {
     "name": "stdout",
     "output_type": "stream",
     "text": [
      "Best search parameters\n",
      "{'n_estimators': 100}\n",
      "0.5034538937052059\n",
      "\n",
      "Class names: ['o1+' 'o1-' 'o1o' 'o2+' 'o2-' 'o2o']\n",
      "Precision: 0.4227746917761821\n",
      "Recall: 0.6475409836065574\n",
      "F1: 0.5115573770491804\n",
      "\n",
      "\n",
      "-----------------------------------------------\n",
      "\n",
      "GaussianProcessClassifier\n"
     ]
    },
    {
     "name": "stderr",
     "output_type": "stream",
     "text": [
      "C:\\Users\\macie\\AppData\\Local\\Programs\\Python\\Python37\\lib\\site-packages\\sklearn\\metrics\\_classification.py:1268: UndefinedMetricWarning: Precision is ill-defined and being set to 0.0 in labels with no predicted samples. Use `zero_division` parameter to control this behavior.\n",
      "  _warn_prf(average, modifier, msg_start, len(result))\n",
      "C:\\Users\\macie\\AppData\\Local\\Programs\\Python\\Python37\\lib\\site-packages\\sklearn\\metrics\\_classification.py:1268: UndefinedMetricWarning: Recall is ill-defined and being set to 0.0 in labels with no true samples. Use `zero_division` parameter to control this behavior.\n",
      "  _warn_prf(average, modifier, msg_start, len(result))\n",
      "C:\\Users\\macie\\AppData\\Local\\Programs\\Python\\Python37\\lib\\site-packages\\sklearn\\model_selection\\_split.py:667: UserWarning: The least populated class in y has only 1 members, which is less than n_splits=5.\n",
      "  % (min_groups, self.n_splits)), UserWarning)\n"
     ]
    },
    {
     "name": "stdout",
     "output_type": "stream",
     "text": [
      "Best search parameters\n",
      "{}\n",
      "0.7457048570551408\n"
     ]
    },
    {
     "name": "stderr",
     "output_type": "stream",
     "text": [
      "C:\\Users\\macie\\AppData\\Local\\Programs\\Python\\Python37\\lib\\site-packages\\sklearn\\metrics\\_classification.py:1268: UndefinedMetricWarning: Precision is ill-defined and being set to 0.0 in labels with no predicted samples. Use `zero_division` parameter to control this behavior.\n",
      "  _warn_prf(average, modifier, msg_start, len(result))\n"
     ]
    },
    {
     "name": "stdout",
     "output_type": "stream",
     "text": [
      "\n",
      "Class names: ['o1+' 'o1-' 'o1o' 'o2+' 'o2-' 'o2o']\n",
      "Precision: 0.7663630843958713\n",
      "Recall: 0.7950819672131147\n",
      "F1: 0.7801537709689279\n",
      "\n",
      "\n",
      "-----------------------------------------------\n",
      "\n",
      "GradientBoostingClassifier\n"
     ]
    },
    {
     "name": "stderr",
     "output_type": "stream",
     "text": [
      "C:\\Users\\macie\\AppData\\Local\\Programs\\Python\\Python37\\lib\\site-packages\\sklearn\\model_selection\\_split.py:667: UserWarning: The least populated class in y has only 1 members, which is less than n_splits=5.\n",
      "  % (min_groups, self.n_splits)), UserWarning)\n"
     ]
    },
    {
     "name": "stdout",
     "output_type": "stream",
     "text": [
      "Best search parameters\n",
      "{'max_depth': 8, 'n_estimators': 830}\n",
      "0.7632115419930482\n",
      "\n",
      "Class names: ['o1+' 'o1-' 'o1o' 'o2+' 'o2-' 'o2o']\n",
      "Precision: 0.7471489665003563\n",
      "Recall: 0.7950819672131147\n",
      "F1: 0.7568306010928961\n",
      "\n",
      "\n",
      "-----------------------------------------------\n",
      "\n",
      "SVC\n"
     ]
    },
    {
     "name": "stderr",
     "output_type": "stream",
     "text": [
      "C:\\Users\\macie\\AppData\\Local\\Programs\\Python\\Python37\\lib\\site-packages\\sklearn\\metrics\\_classification.py:1268: UndefinedMetricWarning: Precision is ill-defined and being set to 0.0 in labels with no predicted samples. Use `zero_division` parameter to control this behavior.\n",
      "  _warn_prf(average, modifier, msg_start, len(result))\n",
      "C:\\Users\\macie\\AppData\\Local\\Programs\\Python\\Python37\\lib\\site-packages\\sklearn\\metrics\\_classification.py:1268: UndefinedMetricWarning: Recall is ill-defined and being set to 0.0 in labels with no true samples. Use `zero_division` parameter to control this behavior.\n",
      "  _warn_prf(average, modifier, msg_start, len(result))\n",
      "C:\\Users\\macie\\AppData\\Local\\Programs\\Python\\Python37\\lib\\site-packages\\sklearn\\model_selection\\_split.py:667: UserWarning: The least populated class in y has only 1 members, which is less than n_splits=5.\n",
      "  % (min_groups, self.n_splits)), UserWarning)\n"
     ]
    },
    {
     "name": "stdout",
     "output_type": "stream",
     "text": [
      "Best search parameters\n",
      "{'C': 7.78, 'gamma': 0.006329113924050633}\n",
      "0.8044078804158625\n",
      "\n",
      "Class names: ['o1+' 'o1-' 'o1o' 'o2+' 'o2-' 'o2o']\n",
      "Precision: 0.810566906242429\n",
      "Recall: 0.8442622950819673\n",
      "F1: 0.8232637192428038\n",
      "\n",
      "\n",
      "-----------------------------------------------\n",
      "\n"
     ]
    },
    {
     "name": "stderr",
     "output_type": "stream",
     "text": [
      "C:\\Users\\macie\\AppData\\Local\\Programs\\Python\\Python37\\lib\\site-packages\\sklearn\\metrics\\_classification.py:1268: UndefinedMetricWarning: Precision is ill-defined and being set to 0.0 in labels with no predicted samples. Use `zero_division` parameter to control this behavior.\n",
      "  _warn_prf(average, modifier, msg_start, len(result))\n"
     ]
    }
   ],
   "source": [
    "scorers_array = {\n",
    "    'f1_score': make_scorer(f1_score, average=\"weighted\")\n",
    "}\n",
    "\n",
    "for estimator in estimators:\n",
    "    print(str(estimator.__class__.__name__))    \n",
    "    \n",
    "    search = GridSearchCV(estimator, estimators_parameters[estimator], scoring = scorers_array, return_train_score=True, n_jobs=-1, refit='f1_score')\n",
    "    search.fit(X_train, l_train)\n",
    "    \n",
    "    print(\"Best search parameters\")\n",
    "    print(search.best_params_)\n",
    "    print(search.best_score_)\n",
    "    \n",
    "    prediction = search.predict(X_test)\n",
    "    \n",
    "    classNames = data.columns[-6:].to_numpy()\n",
    "    precision = precision_score(l_test, prediction, average=\"weighted\")\n",
    "    recall = recall_score(l_test, prediction, average=\"weighted\")\n",
    "    f1 = f1_score(l_test, prediction, average=\"weighted\")\n",
    "    \n",
    "    print()\n",
    "    \n",
    "    print(\"Class names: {0}\".format(classNames))\n",
    "    print(\"Precision: {0}\".format(precision))\n",
    "    print(\"Recall: {0}\".format(recall))\n",
    "    print(\"F1: {0}\".format(f1))\n",
    "    \n",
    "    print()\n",
    "    print()\n",
    "    print(\"-----------------------------------------------\")\n",
    "    print()"
   ]
  },
  {
   "cell_type": "code",
   "execution_count": null,
   "metadata": {},
   "outputs": [],
   "source": []
  }
 ],
 "metadata": {
  "kernelspec": {
   "display_name": "Python 3",
   "language": "python",
   "name": "python3"
  },
  "language_info": {
   "codemirror_mode": {
    "name": "ipython",
    "version": 3
   },
   "file_extension": ".py",
   "mimetype": "text/x-python",
   "name": "python",
   "nbconvert_exporter": "python",
   "pygments_lexer": "ipython3",
   "version": "3.7.4"
  }
 },
 "nbformat": 4,
 "nbformat_minor": 2
}
